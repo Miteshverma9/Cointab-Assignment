{
 "cells": [
  {
   "cell_type": "markdown",
   "id": "895b43b9",
   "metadata": {},
   "source": [
    "# Business Scenario:\n",
    "You are a data analyst and your client has a large ecommerce company in India (let’s call it X). X gets a thousand orders via their website on a daily basis and they have to deliver them as fast as they can. For delivering the goods ordered by the customers, X has tied up with multiple courier companies in India as delivery partners who charge them some amount per delivery. The charges are dependent upon two factors: \n",
    "\n",
    "● Weight of the product \n",
    "\n",
    "● Distance between the warehouse (pickup location) and customer’s delivery address (destination location) \n",
    "\n",
    "On an average, the delivery charges are Rs. 100 per shipment. So if X ships 1,00,000 orders per month, they have to pay approximately Rs. 1 crore to the courier companies on a monthly basis as charges. \n",
    "\n",
    "As the amount that X has to pay to the courier companies is very high, they want to verify if the charges levied by their Delivery partners per Order are correct."
   ]
  },
  {
   "cell_type": "code",
   "execution_count": 1,
   "id": "2653fb74",
   "metadata": {},
   "outputs": [],
   "source": [
    "import pandas as pd\n",
    "import numpy as np\n",
    "import seaborn as sns\n",
    "sns.set_theme(style=\"darkgrid\")\n",
    "import matplotlib.pyplot as plt\n",
    "%matplotlib inline\n",
    "\n",
    "import warnings\n",
    "warnings.filterwarnings('ignore')"
   ]
  },
  {
   "cell_type": "markdown",
   "id": "659db5e2",
   "metadata": {},
   "source": [
    "# Input Data \n",
    "**Left Hand Side (LHS) Data (X’s internal data spread across three reports)**\n",
    "\n",
    "● Website order report- which will list Order IDs and various products (SKUs) part of each order. Order ID is common identifier between X’s order report and courier company invoice \n",
    "\n",
    "● Warehouse pincode to All India pincode mapping -(this should be used to figure out delivery zone (a/b/c/d/e) and during analysis compare against one reported by courier company in their CSV invoice per Order ID \n",
    "\n",
    "● SKU master with gross weight of each product. This should be used to calculate total weight of each order and during analysis compare against one reported by courier company in their CSV invoice per Order ID. The courier company calculates weight in slabs that is applicable for that delivery zone, so first you have to figure out the total weight of the shipment and then figure out applicable weight (based on zone’s weight slab)"
   ]
  },
  {
   "cell_type": "markdown",
   "id": "439feb9f",
   "metadata": {},
   "source": [
    "**Company - Order Report**"
   ]
  },
  {
   "cell_type": "code",
   "execution_count": 106,
   "id": "4d083ed9",
   "metadata": {},
   "outputs": [
    {
     "data": {
      "text/html": [
       "<div>\n",
       "<style scoped>\n",
       "    .dataframe tbody tr th:only-of-type {\n",
       "        vertical-align: middle;\n",
       "    }\n",
       "\n",
       "    .dataframe tbody tr th {\n",
       "        vertical-align: top;\n",
       "    }\n",
       "\n",
       "    .dataframe thead th {\n",
       "        text-align: right;\n",
       "    }\n",
       "</style>\n",
       "<table border=\"1\" class=\"dataframe\">\n",
       "  <thead>\n",
       "    <tr style=\"text-align: right;\">\n",
       "      <th></th>\n",
       "      <th>ExternOrderNo</th>\n",
       "      <th>SKU</th>\n",
       "      <th>Order Qty</th>\n",
       "    </tr>\n",
       "  </thead>\n",
       "  <tbody>\n",
       "    <tr>\n",
       "      <th>0</th>\n",
       "      <td>2001827036</td>\n",
       "      <td>8904223818706</td>\n",
       "      <td>1.0</td>\n",
       "    </tr>\n",
       "    <tr>\n",
       "      <th>1</th>\n",
       "      <td>2001827036</td>\n",
       "      <td>8904223819093</td>\n",
       "      <td>1.0</td>\n",
       "    </tr>\n",
       "    <tr>\n",
       "      <th>2</th>\n",
       "      <td>2001827036</td>\n",
       "      <td>8904223819109</td>\n",
       "      <td>1.0</td>\n",
       "    </tr>\n",
       "    <tr>\n",
       "      <th>3</th>\n",
       "      <td>2001827036</td>\n",
       "      <td>8904223818430</td>\n",
       "      <td>1.0</td>\n",
       "    </tr>\n",
       "    <tr>\n",
       "      <th>4</th>\n",
       "      <td>2001827036</td>\n",
       "      <td>8904223819277</td>\n",
       "      <td>1.0</td>\n",
       "    </tr>\n",
       "    <tr>\n",
       "      <th>...</th>\n",
       "      <td>...</td>\n",
       "      <td>...</td>\n",
       "      <td>...</td>\n",
       "    </tr>\n",
       "    <tr>\n",
       "      <th>395</th>\n",
       "      <td>2001806229</td>\n",
       "      <td>8904223818942</td>\n",
       "      <td>1.0</td>\n",
       "    </tr>\n",
       "    <tr>\n",
       "      <th>396</th>\n",
       "      <td>2001806229</td>\n",
       "      <td>8904223818850</td>\n",
       "      <td>1.0</td>\n",
       "    </tr>\n",
       "    <tr>\n",
       "      <th>397</th>\n",
       "      <td>2001806226</td>\n",
       "      <td>8904223818850</td>\n",
       "      <td>2.0</td>\n",
       "    </tr>\n",
       "    <tr>\n",
       "      <th>398</th>\n",
       "      <td>2001806210</td>\n",
       "      <td>8904223816214</td>\n",
       "      <td>1.0</td>\n",
       "    </tr>\n",
       "    <tr>\n",
       "      <th>399</th>\n",
       "      <td>2001806210</td>\n",
       "      <td>8904223818874</td>\n",
       "      <td>1.0</td>\n",
       "    </tr>\n",
       "  </tbody>\n",
       "</table>\n",
       "<p>400 rows × 3 columns</p>\n",
       "</div>"
      ],
      "text/plain": [
       "     ExternOrderNo            SKU  Order Qty\n",
       "0       2001827036  8904223818706        1.0\n",
       "1       2001827036  8904223819093        1.0\n",
       "2       2001827036  8904223819109        1.0\n",
       "3       2001827036  8904223818430        1.0\n",
       "4       2001827036  8904223819277        1.0\n",
       "..             ...            ...        ...\n",
       "395     2001806229  8904223818942        1.0\n",
       "396     2001806229  8904223818850        1.0\n",
       "397     2001806226  8904223818850        2.0\n",
       "398     2001806210  8904223816214        1.0\n",
       "399     2001806210  8904223818874        1.0\n",
       "\n",
       "[400 rows x 3 columns]"
      ]
     },
     "execution_count": 106,
     "metadata": {},
     "output_type": "execute_result"
    }
   ],
   "source": [
    "data = pd.read_excel('/Users/mitssverma/Documents/Naukari.com/Assignment details/Company X - Order Report.xlsx')\n",
    "data"
   ]
  },
  {
   "cell_type": "code",
   "execution_count": 33,
   "id": "02b93696",
   "metadata": {},
   "outputs": [
    {
     "name": "stdout",
     "output_type": "stream",
     "text": [
      "<class 'pandas.core.frame.DataFrame'>\n",
      "RangeIndex: 400 entries, 0 to 399\n",
      "Data columns (total 3 columns):\n",
      " #   Column         Non-Null Count  Dtype  \n",
      "---  ------         --------------  -----  \n",
      " 0   ExternOrderNo  400 non-null    int64  \n",
      " 1   SKU            400 non-null    object \n",
      " 2   Order Qty      400 non-null    float64\n",
      "dtypes: float64(1), int64(1), object(1)\n",
      "memory usage: 9.5+ KB\n"
     ]
    }
   ],
   "source": [
    "data.info()"
   ]
  },
  {
   "cell_type": "code",
   "execution_count": 34,
   "id": "f3bb2266",
   "metadata": {},
   "outputs": [
    {
     "data": {
      "text/html": [
       "<div>\n",
       "<style scoped>\n",
       "    .dataframe tbody tr th:only-of-type {\n",
       "        vertical-align: middle;\n",
       "    }\n",
       "\n",
       "    .dataframe tbody tr th {\n",
       "        vertical-align: top;\n",
       "    }\n",
       "\n",
       "    .dataframe thead th {\n",
       "        text-align: right;\n",
       "    }\n",
       "</style>\n",
       "<table border=\"1\" class=\"dataframe\">\n",
       "  <thead>\n",
       "    <tr style=\"text-align: right;\">\n",
       "      <th></th>\n",
       "      <th>count</th>\n",
       "      <th>mean</th>\n",
       "      <th>std</th>\n",
       "      <th>min</th>\n",
       "      <th>25%</th>\n",
       "      <th>50%</th>\n",
       "      <th>75%</th>\n",
       "      <th>max</th>\n",
       "    </tr>\n",
       "  </thead>\n",
       "  <tbody>\n",
       "    <tr>\n",
       "      <th>ExternOrderNo</th>\n",
       "      <td>400.0</td>\n",
       "      <td>2.001811e+09</td>\n",
       "      <td>5187.698443</td>\n",
       "      <td>2.001806e+09</td>\n",
       "      <td>2.001807e+09</td>\n",
       "      <td>2.001809e+09</td>\n",
       "      <td>2.001812e+09</td>\n",
       "      <td>2.001827e+09</td>\n",
       "    </tr>\n",
       "    <tr>\n",
       "      <th>Order Qty</th>\n",
       "      <td>400.0</td>\n",
       "      <td>1.297500e+00</td>\n",
       "      <td>0.919842</td>\n",
       "      <td>1.000000e+00</td>\n",
       "      <td>1.000000e+00</td>\n",
       "      <td>1.000000e+00</td>\n",
       "      <td>1.000000e+00</td>\n",
       "      <td>8.000000e+00</td>\n",
       "    </tr>\n",
       "  </tbody>\n",
       "</table>\n",
       "</div>"
      ],
      "text/plain": [
       "               count          mean          std           min           25%  \\\n",
       "ExternOrderNo  400.0  2.001811e+09  5187.698443  2.001806e+09  2.001807e+09   \n",
       "Order Qty      400.0  1.297500e+00     0.919842  1.000000e+00  1.000000e+00   \n",
       "\n",
       "                        50%           75%           max  \n",
       "ExternOrderNo  2.001809e+09  2.001812e+09  2.001827e+09  \n",
       "Order Qty      1.000000e+00  1.000000e+00  8.000000e+00  "
      ]
     },
     "execution_count": 34,
     "metadata": {},
     "output_type": "execute_result"
    }
   ],
   "source": [
    "data.describe().T"
   ]
  },
  {
   "cell_type": "markdown",
   "id": "bf9a57d4",
   "metadata": {},
   "source": [
    "- 400 data is present in dataset.\n",
    "- No null Values present in dataset.\n",
    "- ExternOrderNo is integer type.\n",
    "- SKU is object type.\n",
    "- Order Qty is float type"
   ]
  },
  {
   "cell_type": "code",
   "execution_count": 35,
   "id": "af7e8e0e",
   "metadata": {
    "scrolled": true
   },
   "outputs": [
    {
     "name": "stdout",
     "output_type": "stream",
     "text": [
      "2001809820    14\n",
      "2001827036     8\n",
      "2001812854     8\n",
      "2001821185     8\n",
      "2001817093     8\n",
      "              ..\n",
      "2001814580     1\n",
      "2001820690     1\n",
      "2001806686     1\n",
      "2001806823     1\n",
      "2001807012     1\n",
      "Name: ExternOrderNo, Length: 124, dtype: int64 \n",
      " --------------------------------------------------\n",
      "8904223818850    60\n",
      "8904223818706    59\n",
      "8904223818942    41\n",
      "8904223819468    24\n",
      "8904223819024    17\n",
      "                 ..\n",
      "8904223819093     1\n",
      "8904223817501     1\n",
      "8904223819109     1\n",
      "GIFTBOX202002     1\n",
      "8904223818645     1\n",
      "Name: SKU, Length: 65, dtype: int64 \n",
      " --------------------------------------------------\n",
      "1.0    334\n",
      "2.0     48\n",
      "4.0     11\n",
      "8.0      3\n",
      "6.0      3\n",
      "3.0      1\n",
      "Name: Order Qty, dtype: int64 \n",
      " --------------------------------------------------\n"
     ]
    }
   ],
   "source": [
    "for i in data.columns:\n",
    "    print(data[i].value_counts(),'\\n','-'*50)"
   ]
  },
  {
   "cell_type": "code",
   "execution_count": 36,
   "id": "77a003da",
   "metadata": {},
   "outputs": [
    {
     "data": {
      "text/plain": [
       "<AxesSubplot:xlabel='Order Qty', ylabel='count'>"
      ]
     },
     "execution_count": 36,
     "metadata": {},
     "output_type": "execute_result"
    },
    {
     "data": {
      "image/png": "[encoded data removed]",
      "text/plain": [
       "<Figure size 432x288 with 1 Axes>"
      ]
     },
     "metadata": {
      "needs_background": "light"
     },
     "output_type": "display_data"
    }
   ],
   "source": [
    "sns.countplot(data['Order Qty'])"
   ]
  },
  {
   "cell_type": "code",
   "execution_count": 37,
   "id": "27e1a133",
   "metadata": {},
   "outputs": [],
   "source": [
    "col = ['ExternOrderNo','SKU']"
   ]
  },
  {
   "cell_type": "code",
   "execution_count": 38,
   "id": "0405201f",
   "metadata": {
    "scrolled": true
   },
   "outputs": [
    {
     "data": {
      "image/png": "[encoded data removed]",
      "text/plain": [
       "<Figure size 720x1080 with 2 Axes>"
      ]
     },
     "metadata": {
      "needs_background": "light"
     },
     "output_type": "display_data"
    }
   ],
   "source": [
    "plt.figure(figsize = (10,15))\n",
    "plotnumber = 1\n",
    "\n",
    "for column in col:\n",
    "    if plotnumber <= 2:\n",
    "        ax = plt.subplot(1,2,plotnumber)\n",
    "        sns.countplot(y = data[column])\n",
    "        plt.xlabel(column,fontsize = 10)\n",
    "    \n",
    "    plotnumber+=1\n",
    "plt.tight_layout()"
   ]
  },
  {
   "cell_type": "markdown",
   "id": "831e2e8e",
   "metadata": {},
   "source": [
    "**Unique Values**\n",
    "- ExternOrderNo. have 124 unique values.\n",
    "- SKU have 65 unique values.\n",
    "- Order Qty, 6 unique values.\n",
    "\n",
    "**Highest**\n",
    "- Order No. : 2001809820, is the highest no. of data in ExternOrderNo.\n",
    "- 8904223818850, is the highest in SKU.\n",
    "- Maximum Order Qty is 1.0"
   ]
  },
  {
   "cell_type": "markdown",
   "id": "fc61fbef",
   "metadata": {},
   "source": [
    "**Company - Pincode Zone**"
   ]
  },
  {
   "cell_type": "code",
   "execution_count": 39,
   "id": "f9e8ca45",
   "metadata": {},
   "outputs": [
    {
     "data": {
      "text/html": [
       "<div>\n",
       "<style scoped>\n",
       "    .dataframe tbody tr th:only-of-type {\n",
       "        vertical-align: middle;\n",
       "    }\n",
       "\n",
       "    .dataframe tbody tr th {\n",
       "        vertical-align: top;\n",
       "    }\n",
       "\n",
       "    .dataframe thead th {\n",
       "        text-align: right;\n",
       "    }\n",
       "</style>\n",
       "<table border=\"1\" class=\"dataframe\">\n",
       "  <thead>\n",
       "    <tr style=\"text-align: right;\">\n",
       "      <th></th>\n",
       "      <th>Warehouse Pincode</th>\n",
       "      <th>Customer Pincode</th>\n",
       "      <th>Zone</th>\n",
       "    </tr>\n",
       "  </thead>\n",
       "  <tbody>\n",
       "    <tr>\n",
       "      <th>0</th>\n",
       "      <td>121003</td>\n",
       "      <td>507101</td>\n",
       "      <td>d</td>\n",
       "    </tr>\n",
       "    <tr>\n",
       "      <th>1</th>\n",
       "      <td>121003</td>\n",
       "      <td>486886</td>\n",
       "      <td>d</td>\n",
       "    </tr>\n",
       "    <tr>\n",
       "      <th>2</th>\n",
       "      <td>121003</td>\n",
       "      <td>532484</td>\n",
       "      <td>d</td>\n",
       "    </tr>\n",
       "    <tr>\n",
       "      <th>3</th>\n",
       "      <td>121003</td>\n",
       "      <td>143001</td>\n",
       "      <td>b</td>\n",
       "    </tr>\n",
       "    <tr>\n",
       "      <th>4</th>\n",
       "      <td>121003</td>\n",
       "      <td>515591</td>\n",
       "      <td>d</td>\n",
       "    </tr>\n",
       "    <tr>\n",
       "      <th>...</th>\n",
       "      <td>...</td>\n",
       "      <td>...</td>\n",
       "      <td>...</td>\n",
       "    </tr>\n",
       "    <tr>\n",
       "      <th>119</th>\n",
       "      <td>121003</td>\n",
       "      <td>325207</td>\n",
       "      <td>b</td>\n",
       "    </tr>\n",
       "    <tr>\n",
       "      <th>120</th>\n",
       "      <td>121003</td>\n",
       "      <td>303702</td>\n",
       "      <td>b</td>\n",
       "    </tr>\n",
       "    <tr>\n",
       "      <th>121</th>\n",
       "      <td>121003</td>\n",
       "      <td>313301</td>\n",
       "      <td>b</td>\n",
       "    </tr>\n",
       "    <tr>\n",
       "      <th>122</th>\n",
       "      <td>121003</td>\n",
       "      <td>173212</td>\n",
       "      <td>e</td>\n",
       "    </tr>\n",
       "    <tr>\n",
       "      <th>123</th>\n",
       "      <td>121003</td>\n",
       "      <td>302020</td>\n",
       "      <td>b</td>\n",
       "    </tr>\n",
       "  </tbody>\n",
       "</table>\n",
       "<p>124 rows × 3 columns</p>\n",
       "</div>"
      ],
      "text/plain": [
       "     Warehouse Pincode  Customer Pincode Zone\n",
       "0               121003            507101    d\n",
       "1               121003            486886    d\n",
       "2               121003            532484    d\n",
       "3               121003            143001    b\n",
       "4               121003            515591    d\n",
       "..                 ...               ...  ...\n",
       "119             121003            325207    b\n",
       "120             121003            303702    b\n",
       "121             121003            313301    b\n",
       "122             121003            173212    e\n",
       "123             121003            302020    b\n",
       "\n",
       "[124 rows x 3 columns]"
      ]
     },
     "execution_count": 39,
     "metadata": {},
     "output_type": "execute_result"
    }
   ],
   "source": [
    "data1 = pd.read_excel('/Users/mitssverma/Documents/Naukari.com/Assignment details/Company X - Pincode Zones.xlsx')\n",
    "data1"
   ]
  },
  {
   "cell_type": "code",
   "execution_count": 40,
   "id": "22c758dc",
   "metadata": {},
   "outputs": [
    {
     "name": "stdout",
     "output_type": "stream",
     "text": [
      "<class 'pandas.core.frame.DataFrame'>\n",
      "RangeIndex: 124 entries, 0 to 123\n",
      "Data columns (total 3 columns):\n",
      " #   Column             Non-Null Count  Dtype \n",
      "---  ------             --------------  ----- \n",
      " 0   Warehouse Pincode  124 non-null    int64 \n",
      " 1   Customer Pincode   124 non-null    int64 \n",
      " 2   Zone               124 non-null    object\n",
      "dtypes: int64(2), object(1)\n",
      "memory usage: 3.0+ KB\n"
     ]
    }
   ],
   "source": [
    "data1.info()"
   ]
  },
  {
   "cell_type": "code",
   "execution_count": 41,
   "id": "609bd088",
   "metadata": {
    "scrolled": true
   },
   "outputs": [
    {
     "data": {
      "text/html": [
       "<div>\n",
       "<style scoped>\n",
       "    .dataframe tbody tr th:only-of-type {\n",
       "        vertical-align: middle;\n",
       "    }\n",
       "\n",
       "    .dataframe tbody tr th {\n",
       "        vertical-align: top;\n",
       "    }\n",
       "\n",
       "    .dataframe thead th {\n",
       "        text-align: right;\n",
       "    }\n",
       "</style>\n",
       "<table border=\"1\" class=\"dataframe\">\n",
       "  <thead>\n",
       "    <tr style=\"text-align: right;\">\n",
       "      <th></th>\n",
       "      <th>count</th>\n",
       "      <th>mean</th>\n",
       "      <th>std</th>\n",
       "      <th>min</th>\n",
       "      <th>25%</th>\n",
       "      <th>50%</th>\n",
       "      <th>75%</th>\n",
       "      <th>max</th>\n",
       "    </tr>\n",
       "  </thead>\n",
       "  <tbody>\n",
       "    <tr>\n",
       "      <th>Warehouse Pincode</th>\n",
       "      <td>124.0</td>\n",
       "      <td>121003.000000</td>\n",
       "      <td>0.00000</td>\n",
       "      <td>121003.0</td>\n",
       "      <td>121003.0</td>\n",
       "      <td>121003.0</td>\n",
       "      <td>121003.00</td>\n",
       "      <td>121003.0</td>\n",
       "    </tr>\n",
       "    <tr>\n",
       "      <th>Customer Pincode</th>\n",
       "      <td>124.0</td>\n",
       "      <td>365488.072581</td>\n",
       "      <td>152156.32213</td>\n",
       "      <td>140301.0</td>\n",
       "      <td>302017.0</td>\n",
       "      <td>321304.5</td>\n",
       "      <td>405102.25</td>\n",
       "      <td>845438.0</td>\n",
       "    </tr>\n",
       "  </tbody>\n",
       "</table>\n",
       "</div>"
      ],
      "text/plain": [
       "                   count           mean           std       min       25%  \\\n",
       "Warehouse Pincode  124.0  121003.000000       0.00000  121003.0  121003.0   \n",
       "Customer Pincode   124.0  365488.072581  152156.32213  140301.0  302017.0   \n",
       "\n",
       "                        50%        75%       max  \n",
       "Warehouse Pincode  121003.0  121003.00  121003.0  \n",
       "Customer Pincode   321304.5  405102.25  845438.0  "
      ]
     },
     "execution_count": 41,
     "metadata": {},
     "output_type": "execute_result"
    }
   ],
   "source": [
    "data1.describe().T"
   ]
  },
  {
   "cell_type": "markdown",
   "id": "6cda2010",
   "metadata": {},
   "source": [
    "- 124 data present in the dataset.\n",
    "- No null values present.\n",
    "- Warehouse Pincode and Customer Pincode are integer type.\n",
    "- Zone is object type column."
   ]
  },
  {
   "cell_type": "code",
   "execution_count": 42,
   "id": "b284a5bd",
   "metadata": {},
   "outputs": [
    {
     "name": "stdout",
     "output_type": "stream",
     "text": [
      "121003    124\n",
      "Name: Warehouse Pincode, dtype: int64 \n",
      " --------------------------------------------------\n",
      "302017    5\n",
      "313001    4\n",
      "302002    2\n",
      "302031    2\n",
      "248001    2\n",
      "         ..\n",
      "723146    1\n",
      "140604    1\n",
      "831006    1\n",
      "562110    1\n",
      "313301    1\n",
      "Name: Customer Pincode, Length: 108, dtype: int64 \n",
      " --------------------------------------------------\n",
      "b    79\n",
      "d    38\n",
      "e     7\n",
      "Name: Zone, dtype: int64 \n",
      " --------------------------------------------------\n"
     ]
    }
   ],
   "source": [
    "for i in data1.columns:\n",
    "    print(data1[i].value_counts(),'\\n','-'*50)"
   ]
  },
  {
   "cell_type": "code",
   "execution_count": 43,
   "id": "1fdfd637",
   "metadata": {},
   "outputs": [
    {
     "data": {
      "text/plain": [
       "<AxesSubplot:xlabel='Zone', ylabel='count'>"
      ]
     },
     "execution_count": 43,
     "metadata": {},
     "output_type": "execute_result"
    },
    {
     "data": {
      "image/png": "[encoded data removed]",
      "text/plain": [
       "<Figure size 432x288 with 1 Axes>"
      ]
     },
     "metadata": {
      "needs_background": "light"
     },
     "output_type": "display_data"
    }
   ],
   "source": [
    "sns.countplot(data1['Zone'])"
   ]
  },
  {
   "cell_type": "code",
   "execution_count": 44,
   "id": "e43778eb",
   "metadata": {},
   "outputs": [
    {
     "data": {
      "text/plain": [
       "<AxesSubplot:xlabel='count', ylabel='Customer Pincode'>"
      ]
     },
     "execution_count": 44,
     "metadata": {},
     "output_type": "execute_result"
    },
    {
     "data": {
      "image/png": "[encoded data removed]",
      "text/plain": [
       "<Figure size 720x1080 with 1 Axes>"
      ]
     },
     "metadata": {
      "needs_background": "light"
     },
     "output_type": "display_data"
    }
   ],
   "source": [
    "plt.figure(figsize = (10,15))\n",
    "sns.countplot(y = data1['Customer Pincode'])"
   ]
  },
  {
   "cell_type": "markdown",
   "id": "971a37c8",
   "metadata": {},
   "source": [
    "- There is only 1 warehouse pincode i.e. 121003.\n",
    "- Customer Pincode has 108 unique values and Maximum is from 302017 customer pincode.\n",
    "- 3 unique values in Zone and Maximum zone is b."
   ]
  },
  {
   "cell_type": "markdown",
   "id": "99437a87",
   "metadata": {},
   "source": [
    "**Company - SKU Master**"
   ]
  },
  {
   "cell_type": "code",
   "execution_count": 45,
   "id": "f0a313ad",
   "metadata": {},
   "outputs": [
    {
     "data": {
      "text/html": [
       "<div>\n",
       "<style scoped>\n",
       "    .dataframe tbody tr th:only-of-type {\n",
       "        vertical-align: middle;\n",
       "    }\n",
       "\n",
       "    .dataframe tbody tr th {\n",
       "        vertical-align: top;\n",
       "    }\n",
       "\n",
       "    .dataframe thead th {\n",
       "        text-align: right;\n",
       "    }\n",
       "</style>\n",
       "<table border=\"1\" class=\"dataframe\">\n",
       "  <thead>\n",
       "    <tr style=\"text-align: right;\">\n",
       "      <th></th>\n",
       "      <th>SKU</th>\n",
       "      <th>Weight (g)</th>\n",
       "    </tr>\n",
       "  </thead>\n",
       "  <tbody>\n",
       "    <tr>\n",
       "      <th>0</th>\n",
       "      <td>8904223815682</td>\n",
       "      <td>210</td>\n",
       "    </tr>\n",
       "    <tr>\n",
       "      <th>1</th>\n",
       "      <td>8904223815859</td>\n",
       "      <td>165</td>\n",
       "    </tr>\n",
       "    <tr>\n",
       "      <th>2</th>\n",
       "      <td>8904223815866</td>\n",
       "      <td>113</td>\n",
       "    </tr>\n",
       "    <tr>\n",
       "      <th>3</th>\n",
       "      <td>8904223815873</td>\n",
       "      <td>65</td>\n",
       "    </tr>\n",
       "    <tr>\n",
       "      <th>4</th>\n",
       "      <td>8904223816214</td>\n",
       "      <td>120</td>\n",
       "    </tr>\n",
       "    <tr>\n",
       "      <th>...</th>\n",
       "      <td>...</td>\n",
       "      <td>...</td>\n",
       "    </tr>\n",
       "    <tr>\n",
       "      <th>61</th>\n",
       "      <td>8904223819505</td>\n",
       "      <td>210</td>\n",
       "    </tr>\n",
       "    <tr>\n",
       "      <th>62</th>\n",
       "      <td>8904223819499</td>\n",
       "      <td>210</td>\n",
       "    </tr>\n",
       "    <tr>\n",
       "      <th>63</th>\n",
       "      <td>8904223819512</td>\n",
       "      <td>210</td>\n",
       "    </tr>\n",
       "    <tr>\n",
       "      <th>64</th>\n",
       "      <td>8904223819543</td>\n",
       "      <td>300</td>\n",
       "    </tr>\n",
       "    <tr>\n",
       "      <th>65</th>\n",
       "      <td>SACHETS001</td>\n",
       "      <td>10</td>\n",
       "    </tr>\n",
       "  </tbody>\n",
       "</table>\n",
       "<p>66 rows × 2 columns</p>\n",
       "</div>"
      ],
      "text/plain": [
       "              SKU  Weight (g)\n",
       "0   8904223815682         210\n",
       "1   8904223815859         165\n",
       "2   8904223815866         113\n",
       "3   8904223815873          65\n",
       "4   8904223816214         120\n",
       "..            ...         ...\n",
       "61  8904223819505         210\n",
       "62  8904223819499         210\n",
       "63  8904223819512         210\n",
       "64  8904223819543         300\n",
       "65     SACHETS001          10\n",
       "\n",
       "[66 rows x 2 columns]"
      ]
     },
     "execution_count": 45,
     "metadata": {},
     "output_type": "execute_result"
    }
   ],
   "source": [
    "data2 = pd.read_excel('/Users/mitssverma/Documents/Naukari.com/Assignment details/Company X - SKU Master.xlsx')\n",
    "data2"
   ]
  },
  {
   "cell_type": "code",
   "execution_count": 46,
   "id": "da36fd5b",
   "metadata": {},
   "outputs": [
    {
     "name": "stdout",
     "output_type": "stream",
     "text": [
      "<class 'pandas.core.frame.DataFrame'>\n",
      "RangeIndex: 66 entries, 0 to 65\n",
      "Data columns (total 2 columns):\n",
      " #   Column      Non-Null Count  Dtype \n",
      "---  ------      --------------  ----- \n",
      " 0   SKU         66 non-null     object\n",
      " 1   Weight (g)  66 non-null     int64 \n",
      "dtypes: int64(1), object(1)\n",
      "memory usage: 1.2+ KB\n"
     ]
    }
   ],
   "source": [
    "data2.info()"
   ]
  },
  {
   "cell_type": "code",
   "execution_count": 47,
   "id": "f678f295",
   "metadata": {},
   "outputs": [
    {
     "data": {
      "text/html": [
       "<div>\n",
       "<style scoped>\n",
       "    .dataframe tbody tr th:only-of-type {\n",
       "        vertical-align: middle;\n",
       "    }\n",
       "\n",
       "    .dataframe tbody tr th {\n",
       "        vertical-align: top;\n",
       "    }\n",
       "\n",
       "    .dataframe thead th {\n",
       "        text-align: right;\n",
       "    }\n",
       "</style>\n",
       "<table border=\"1\" class=\"dataframe\">\n",
       "  <thead>\n",
       "    <tr style=\"text-align: right;\">\n",
       "      <th></th>\n",
       "      <th>Weight (g)</th>\n",
       "    </tr>\n",
       "  </thead>\n",
       "  <tbody>\n",
       "    <tr>\n",
       "      <th>count</th>\n",
       "      <td>66.000000</td>\n",
       "    </tr>\n",
       "    <tr>\n",
       "      <th>mean</th>\n",
       "      <td>219.742424</td>\n",
       "    </tr>\n",
       "    <tr>\n",
       "      <th>std</th>\n",
       "      <td>146.855482</td>\n",
       "    </tr>\n",
       "    <tr>\n",
       "      <th>min</th>\n",
       "      <td>10.000000</td>\n",
       "    </tr>\n",
       "    <tr>\n",
       "      <th>25%</th>\n",
       "      <td>116.250000</td>\n",
       "    </tr>\n",
       "    <tr>\n",
       "      <th>50%</th>\n",
       "      <td>165.000000</td>\n",
       "    </tr>\n",
       "    <tr>\n",
       "      <th>75%</th>\n",
       "      <td>290.000000</td>\n",
       "    </tr>\n",
       "    <tr>\n",
       "      <th>max</th>\n",
       "      <td>600.000000</td>\n",
       "    </tr>\n",
       "  </tbody>\n",
       "</table>\n",
       "</div>"
      ],
      "text/plain": [
       "       Weight (g)\n",
       "count   66.000000\n",
       "mean   219.742424\n",
       "std    146.855482\n",
       "min     10.000000\n",
       "25%    116.250000\n",
       "50%    165.000000\n",
       "75%    290.000000\n",
       "max    600.000000"
      ]
     },
     "execution_count": 47,
     "metadata": {},
     "output_type": "execute_result"
    }
   ],
   "source": [
    "data2.describe()"
   ]
  },
  {
   "cell_type": "markdown",
   "id": "df9ad64d",
   "metadata": {},
   "source": [
    "- 66 data are present.\n",
    "- No null values.\n",
    "- SKU is object type.\n",
    "- Weight (g) is integer type column."
   ]
  },
  {
   "cell_type": "code",
   "execution_count": 48,
   "id": "b120859b",
   "metadata": {},
   "outputs": [
    {
     "name": "stdout",
     "output_type": "stream",
     "text": [
      "GIFTBOX202002    2\n",
      "8904223815682    1\n",
      "8904223819291    1\n",
      "8904223819116    1\n",
      "8904223819161    1\n",
      "                ..\n",
      "8904223818997    1\n",
      "8904223818942    1\n",
      "8904223819024    1\n",
      "8904223819031    1\n",
      "SACHETS001       1\n",
      "Name: SKU, Length: 65, dtype: int64 \n",
      " --------------------------------------------------\n",
      "500    5\n",
      "350    5\n",
      "210    4\n",
      "120    4\n",
      "165    4\n",
      "240    4\n",
      "115    3\n",
      "112    3\n",
      "290    3\n",
      "65     3\n",
      "150    2\n",
      "140    2\n",
      "170    2\n",
      "600    2\n",
      "100    2\n",
      "113    2\n",
      "137    2\n",
      "130    1\n",
      "250    1\n",
      "300    1\n",
      "552    1\n",
      "232    1\n",
      "30     1\n",
      "110    1\n",
      "133    1\n",
      "490    1\n",
      "160    1\n",
      "127    1\n",
      "121    1\n",
      "102    1\n",
      "10     1\n",
      "Name: Weight (g), dtype: int64 \n",
      " --------------------------------------------------\n"
     ]
    }
   ],
   "source": [
    "for i in data2.columns:\n",
    "    print(data2[i].value_counts(),'\\n','-'*50)"
   ]
  },
  {
   "cell_type": "code",
   "execution_count": 49,
   "id": "c08a97f2",
   "metadata": {},
   "outputs": [
    {
     "data": {
      "text/plain": [
       "<AxesSubplot:xlabel='count', ylabel='Weight (g)'>"
      ]
     },
     "execution_count": 49,
     "metadata": {},
     "output_type": "execute_result"
    },
    {
     "data": {
      "image/png": "[encoded data removed]",
      "text/plain": [
       "<Figure size 432x288 with 1 Axes>"
      ]
     },
     "metadata": {
      "needs_background": "light"
     },
     "output_type": "display_data"
    }
   ],
   "source": [
    "sns.countplot(y = data2['Weight (g)'])"
   ]
  },
  {
   "cell_type": "code",
   "execution_count": 50,
   "id": "88bd8e82",
   "metadata": {},
   "outputs": [
    {
     "data": {
      "text/plain": [
       "<AxesSubplot:xlabel='count', ylabel='SKU'>"
      ]
     },
     "execution_count": 50,
     "metadata": {},
     "output_type": "execute_result"
    },
    {
     "data": {
      "image/png": "[encoded data removed]",
      "text/plain": [
       "<Figure size 720x720 with 1 Axes>"
      ]
     },
     "metadata": {
      "needs_background": "light"
     },
     "output_type": "display_data"
    }
   ],
   "source": [
    "plt.figure(figsize = (10,10))\n",
    "sns.countplot(y = data2['SKU'])"
   ]
  },
  {
   "cell_type": "markdown",
   "id": "bb52d73a",
   "metadata": {},
   "source": [
    "- Only SKU no. GIFTBOX202002 is twice a time, else others are single unit.\n",
    "- Maximum weight(g) are 500g and 350g."
   ]
  },
  {
   "cell_type": "code",
   "execution_count": 51,
   "id": "e1ea8984",
   "metadata": {},
   "outputs": [
    {
     "data": {
      "text/html": [
       "<div>\n",
       "<style scoped>\n",
       "    .dataframe tbody tr th:only-of-type {\n",
       "        vertical-align: middle;\n",
       "    }\n",
       "\n",
       "    .dataframe tbody tr th {\n",
       "        vertical-align: top;\n",
       "    }\n",
       "\n",
       "    .dataframe thead th {\n",
       "        text-align: right;\n",
       "    }\n",
       "</style>\n",
       "<table border=\"1\" class=\"dataframe\">\n",
       "  <thead>\n",
       "    <tr style=\"text-align: right;\">\n",
       "      <th></th>\n",
       "      <th>ExternOrderNo</th>\n",
       "      <th>SKU</th>\n",
       "      <th>Order Qty</th>\n",
       "      <th>Weight (g)</th>\n",
       "    </tr>\n",
       "  </thead>\n",
       "  <tbody>\n",
       "    <tr>\n",
       "      <th>0</th>\n",
       "      <td>2001827036</td>\n",
       "      <td>8904223818706</td>\n",
       "      <td>1.0</td>\n",
       "      <td>127</td>\n",
       "    </tr>\n",
       "    <tr>\n",
       "      <th>1</th>\n",
       "      <td>2001821995</td>\n",
       "      <td>8904223818706</td>\n",
       "      <td>1.0</td>\n",
       "      <td>127</td>\n",
       "    </tr>\n",
       "    <tr>\n",
       "      <th>2</th>\n",
       "      <td>2001819252</td>\n",
       "      <td>8904223818706</td>\n",
       "      <td>1.0</td>\n",
       "      <td>127</td>\n",
       "    </tr>\n",
       "    <tr>\n",
       "      <th>3</th>\n",
       "      <td>2001816996</td>\n",
       "      <td>8904223818706</td>\n",
       "      <td>1.0</td>\n",
       "      <td>127</td>\n",
       "    </tr>\n",
       "    <tr>\n",
       "      <th>4</th>\n",
       "      <td>2001814580</td>\n",
       "      <td>8904223818706</td>\n",
       "      <td>1.0</td>\n",
       "      <td>127</td>\n",
       "    </tr>\n",
       "    <tr>\n",
       "      <th>...</th>\n",
       "      <td>...</td>\n",
       "      <td>...</td>\n",
       "      <td>...</td>\n",
       "      <td>...</td>\n",
       "    </tr>\n",
       "    <tr>\n",
       "      <th>396</th>\n",
       "      <td>2001806616</td>\n",
       "      <td>8904223819123</td>\n",
       "      <td>1.0</td>\n",
       "      <td>250</td>\n",
       "    </tr>\n",
       "    <tr>\n",
       "      <th>397</th>\n",
       "      <td>2001806567</td>\n",
       "      <td>8904223815804</td>\n",
       "      <td>1.0</td>\n",
       "      <td>160</td>\n",
       "    </tr>\n",
       "    <tr>\n",
       "      <th>398</th>\n",
       "      <td>2001806567</td>\n",
       "      <td>8904223818577</td>\n",
       "      <td>1.0</td>\n",
       "      <td>150</td>\n",
       "    </tr>\n",
       "    <tr>\n",
       "      <th>399</th>\n",
       "      <td>2001806408</td>\n",
       "      <td>8904223819437</td>\n",
       "      <td>2.0</td>\n",
       "      <td>552</td>\n",
       "    </tr>\n",
       "    <tr>\n",
       "      <th>400</th>\n",
       "      <td>2001806232</td>\n",
       "      <td>8904223818645</td>\n",
       "      <td>6.0</td>\n",
       "      <td>137</td>\n",
       "    </tr>\n",
       "  </tbody>\n",
       "</table>\n",
       "<p>401 rows × 4 columns</p>\n",
       "</div>"
      ],
      "text/plain": [
       "     ExternOrderNo            SKU  Order Qty  Weight (g)\n",
       "0       2001827036  8904223818706        1.0         127\n",
       "1       2001821995  8904223818706        1.0         127\n",
       "2       2001819252  8904223818706        1.0         127\n",
       "3       2001816996  8904223818706        1.0         127\n",
       "4       2001814580  8904223818706        1.0         127\n",
       "..             ...            ...        ...         ...\n",
       "396     2001806616  8904223819123        1.0         250\n",
       "397     2001806567  8904223815804        1.0         160\n",
       "398     2001806567  8904223818577        1.0         150\n",
       "399     2001806408  8904223819437        2.0         552\n",
       "400     2001806232  8904223818645        6.0         137\n",
       "\n",
       "[401 rows x 4 columns]"
      ]
     },
     "execution_count": 51,
     "metadata": {},
     "output_type": "execute_result"
    }
   ],
   "source": [
    "company = pd.merge(data, data2, on = 'SKU', how = 'inner')\n",
    "company"
   ]
  },
  {
   "cell_type": "markdown",
   "id": "1b8652d8",
   "metadata": {},
   "source": [
    "**RHS Data (courier company invoice in CSV file)**\n",
    "\n",
    "● Invoice in CSV file mentioning AWB Number (courier company’s own internal ID), Order ID (company X’s order ID), weight of shipment, warehouse pickup pincode, customer delivery pincode, zone of delivery, charges per shipment, type of shipment \n",
    "\n",
    "● Courier charges rate card at weight slab and pincode level. If the invoice mentions “Forward charges” then only forward charges (“fwd”) should be applicable as per zone and fixed & additional weights based on weight slabs. If the invoice mentions “Forward and rto charges” then forward charges (“fwd”) and RTO charges (“rto”) should be applicable as per zone and fixed & additional weights based on weight slabs. \n",
    "\n",
    "● For the first slab of that zone, “fixed” rate as per the slab is applicable. For each additional slab, “additional” weight in the same proportion is applicable. Total charges will be “fixed” + “total additional” if any. For example: weight 2.2KG, Zone C. So for Zone C the slab length = 0.75KG. So the total applicable weight = 2.25KG. For the first 0.75 KG the charge is “fwd”, and for each 0.75 after the first, charges will be additional charges."
   ]
  },
  {
   "cell_type": "code",
   "execution_count": 52,
   "id": "10d6d000",
   "metadata": {},
   "outputs": [
    {
     "data": {
      "text/html": [
       "<div>\n",
       "<style scoped>\n",
       "    .dataframe tbody tr th:only-of-type {\n",
       "        vertical-align: middle;\n",
       "    }\n",
       "\n",
       "    .dataframe tbody tr th {\n",
       "        vertical-align: top;\n",
       "    }\n",
       "\n",
       "    .dataframe thead th {\n",
       "        text-align: right;\n",
       "    }\n",
       "</style>\n",
       "<table border=\"1\" class=\"dataframe\">\n",
       "  <thead>\n",
       "    <tr style=\"text-align: right;\">\n",
       "      <th></th>\n",
       "      <th>AWB Code</th>\n",
       "      <th>Order ID</th>\n",
       "      <th>Charged Weight</th>\n",
       "      <th>Warehouse Pincode</th>\n",
       "      <th>Customer Pincode</th>\n",
       "      <th>Zone</th>\n",
       "      <th>Type of Shipment</th>\n",
       "      <th>Billing Amount (Rs.)</th>\n",
       "    </tr>\n",
       "  </thead>\n",
       "  <tbody>\n",
       "    <tr>\n",
       "      <th>0</th>\n",
       "      <td>1091117222124</td>\n",
       "      <td>2001806232</td>\n",
       "      <td>1.30</td>\n",
       "      <td>121003</td>\n",
       "      <td>507101</td>\n",
       "      <td>d</td>\n",
       "      <td>Forward charges</td>\n",
       "      <td>135.0</td>\n",
       "    </tr>\n",
       "    <tr>\n",
       "      <th>1</th>\n",
       "      <td>1091117222194</td>\n",
       "      <td>2001806273</td>\n",
       "      <td>1.00</td>\n",
       "      <td>121003</td>\n",
       "      <td>486886</td>\n",
       "      <td>d</td>\n",
       "      <td>Forward charges</td>\n",
       "      <td>90.2</td>\n",
       "    </tr>\n",
       "    <tr>\n",
       "      <th>2</th>\n",
       "      <td>1091117222931</td>\n",
       "      <td>2001806408</td>\n",
       "      <td>2.50</td>\n",
       "      <td>121003</td>\n",
       "      <td>532484</td>\n",
       "      <td>d</td>\n",
       "      <td>Forward charges</td>\n",
       "      <td>224.6</td>\n",
       "    </tr>\n",
       "    <tr>\n",
       "      <th>3</th>\n",
       "      <td>1091117223244</td>\n",
       "      <td>2001806458</td>\n",
       "      <td>1.00</td>\n",
       "      <td>121003</td>\n",
       "      <td>143001</td>\n",
       "      <td>b</td>\n",
       "      <td>Forward charges</td>\n",
       "      <td>61.3</td>\n",
       "    </tr>\n",
       "    <tr>\n",
       "      <th>4</th>\n",
       "      <td>1091117229345</td>\n",
       "      <td>2001807012</td>\n",
       "      <td>0.15</td>\n",
       "      <td>121003</td>\n",
       "      <td>515591</td>\n",
       "      <td>d</td>\n",
       "      <td>Forward charges</td>\n",
       "      <td>45.4</td>\n",
       "    </tr>\n",
       "    <tr>\n",
       "      <th>...</th>\n",
       "      <td>...</td>\n",
       "      <td>...</td>\n",
       "      <td>...</td>\n",
       "      <td>...</td>\n",
       "      <td>...</td>\n",
       "      <td>...</td>\n",
       "      <td>...</td>\n",
       "      <td>...</td>\n",
       "    </tr>\n",
       "    <tr>\n",
       "      <th>119</th>\n",
       "      <td>1091118551656</td>\n",
       "      <td>2001812941</td>\n",
       "      <td>0.73</td>\n",
       "      <td>121003</td>\n",
       "      <td>325207</td>\n",
       "      <td>d</td>\n",
       "      <td>Forward charges</td>\n",
       "      <td>90.2</td>\n",
       "    </tr>\n",
       "    <tr>\n",
       "      <th>120</th>\n",
       "      <td>1091117614452</td>\n",
       "      <td>2001809383</td>\n",
       "      <td>0.50</td>\n",
       "      <td>121003</td>\n",
       "      <td>303702</td>\n",
       "      <td>d</td>\n",
       "      <td>Forward and RTO charges</td>\n",
       "      <td>86.7</td>\n",
       "    </tr>\n",
       "    <tr>\n",
       "      <th>121</th>\n",
       "      <td>1091120922803</td>\n",
       "      <td>2001820978</td>\n",
       "      <td>0.50</td>\n",
       "      <td>121003</td>\n",
       "      <td>313301</td>\n",
       "      <td>d</td>\n",
       "      <td>Forward charges</td>\n",
       "      <td>45.4</td>\n",
       "    </tr>\n",
       "    <tr>\n",
       "      <th>122</th>\n",
       "      <td>1091121844806</td>\n",
       "      <td>2001811475</td>\n",
       "      <td>0.50</td>\n",
       "      <td>121003</td>\n",
       "      <td>173212</td>\n",
       "      <td>b</td>\n",
       "      <td>Forward charges</td>\n",
       "      <td>33.0</td>\n",
       "    </tr>\n",
       "    <tr>\n",
       "      <th>123</th>\n",
       "      <td>1091121846136</td>\n",
       "      <td>2001811305</td>\n",
       "      <td>0.50</td>\n",
       "      <td>121003</td>\n",
       "      <td>302020</td>\n",
       "      <td>d</td>\n",
       "      <td>Forward charges</td>\n",
       "      <td>45.4</td>\n",
       "    </tr>\n",
       "  </tbody>\n",
       "</table>\n",
       "<p>124 rows × 8 columns</p>\n",
       "</div>"
      ],
      "text/plain": [
       "          AWB Code    Order ID  Charged Weight  Warehouse Pincode  \\\n",
       "0    1091117222124  2001806232            1.30             121003   \n",
       "1    1091117222194  2001806273            1.00             121003   \n",
       "2    1091117222931  2001806408            2.50             121003   \n",
       "3    1091117223244  2001806458            1.00             121003   \n",
       "4    1091117229345  2001807012            0.15             121003   \n",
       "..             ...         ...             ...                ...   \n",
       "119  1091118551656  2001812941            0.73             121003   \n",
       "120  1091117614452  2001809383            0.50             121003   \n",
       "121  1091120922803  2001820978            0.50             121003   \n",
       "122  1091121844806  2001811475            0.50             121003   \n",
       "123  1091121846136  2001811305            0.50             121003   \n",
       "\n",
       "     Customer Pincode Zone         Type of Shipment  Billing Amount (Rs.)  \n",
       "0              507101    d          Forward charges                 135.0  \n",
       "1              486886    d          Forward charges                  90.2  \n",
       "2              532484    d          Forward charges                 224.6  \n",
       "3              143001    b          Forward charges                  61.3  \n",
       "4              515591    d          Forward charges                  45.4  \n",
       "..                ...  ...                      ...                   ...  \n",
       "119            325207    d          Forward charges                  90.2  \n",
       "120            303702    d  Forward and RTO charges                  86.7  \n",
       "121            313301    d          Forward charges                  45.4  \n",
       "122            173212    b          Forward charges                  33.0  \n",
       "123            302020    d          Forward charges                  45.4  \n",
       "\n",
       "[124 rows x 8 columns]"
      ]
     },
     "execution_count": 52,
     "metadata": {},
     "output_type": "execute_result"
    }
   ],
   "source": [
    "data3 = pd.read_excel('/Users/mitssverma/Documents/Naukari.com/Assignment details/Courier Company - Invoice.xlsx')\n",
    "data3"
   ]
  },
  {
   "cell_type": "markdown",
   "id": "c17ecf86",
   "metadata": {},
   "source": [
    "**Checking the value counts of columns**"
   ]
  },
  {
   "cell_type": "code",
   "execution_count": 60,
   "id": "ada2c9db",
   "metadata": {},
   "outputs": [],
   "source": [
    "col3 = ['AWB Code','Order ID','Charged Weight','Warehouse Pincode','Customer Pincode','Zone','Type of Shipment','Billing Amount (Rs.)']"
   ]
  },
  {
   "cell_type": "code",
   "execution_count": 61,
   "id": "d478e19a",
   "metadata": {
    "scrolled": true
   },
   "outputs": [
    {
     "name": "stdout",
     "output_type": "stream",
     "text": [
      "1091117222124    1\n",
      "1091120962515    1\n",
      "1091117227116    1\n",
      "1091117222360    1\n",
      "1091122418320    1\n",
      "                ..\n",
      "1091117222135    1\n",
      "1091117222080    1\n",
      "1091117222065    1\n",
      "1091117221940    1\n",
      "1091121846136    1\n",
      "Name: AWB Code, Length: 124, dtype: int64 \n",
      " --------------------------------------------------\n",
      "2001806232    1\n",
      "2001821284    1\n",
      "2001806768    1\n",
      "2001806304    1\n",
      "2001827036    1\n",
      "             ..\n",
      "2001806233    1\n",
      "2001806229    1\n",
      "2001806226    1\n",
      "2001806210    1\n",
      "2001811305    1\n",
      "Name: Order ID, Length: 124, dtype: int64 \n",
      " --------------------------------------------------\n",
      "0.50    11\n",
      "0.68    10\n",
      "1.00     7\n",
      "0.70     6\n",
      "0.15     6\n",
      "0.72     6\n",
      "0.80     5\n",
      "0.20     5\n",
      "0.79     4\n",
      "0.60     4\n",
      "0.69     4\n",
      "0.67     3\n",
      "0.73     2\n",
      "1.30     2\n",
      "1.50     2\n",
      "1.10     2\n",
      "0.76     2\n",
      "0.71     2\n",
      "1.13     2\n",
      "0.59     2\n",
      "1.60     2\n",
      "1.20     2\n",
      "1.08     2\n",
      "0.82     1\n",
      "1.86     1\n",
      "0.61     1\n",
      "2.10     1\n",
      "0.66     1\n",
      "0.30     1\n",
      "1.04     1\n",
      "2.94     1\n",
      "2.47     1\n",
      "2.28     1\n",
      "0.74     1\n",
      "4.13     1\n",
      "1.63     1\n",
      "1.02     1\n",
      "1.35     1\n",
      "0.77     1\n",
      "1.70     1\n",
      "3.00     1\n",
      "2.00     1\n",
      "1.64     1\n",
      "2.86     1\n",
      "1.16     1\n",
      "1.27     1\n",
      "0.78     1\n",
      "2.92     1\n",
      "0.99     1\n",
      "0.86     1\n",
      "1.28     1\n",
      "1.15     1\n",
      "2.50     1\n",
      "2.27     1\n",
      "Name: Charged Weight, dtype: int64 \n",
      " --------------------------------------------------\n",
      "121003    124\n",
      "Name: Warehouse Pincode, dtype: int64 \n",
      " --------------------------------------------------\n",
      "302017    5\n",
      "313001    4\n",
      "302002    2\n",
      "302031    2\n",
      "248001    2\n",
      "         ..\n",
      "723146    1\n",
      "140604    1\n",
      "831006    1\n",
      "562110    1\n",
      "313301    1\n",
      "Name: Customer Pincode, Length: 108, dtype: int64 \n",
      " --------------------------------------------------\n",
      "d    98\n",
      "b    24\n",
      "e     2\n",
      "Name: Zone, dtype: int64 \n",
      " --------------------------------------------------\n",
      "Forward charges            109\n",
      "Forward and RTO charges     15\n",
      "Name: Type of Shipment, dtype: int64 \n",
      " --------------------------------------------------\n",
      "90.2     48\n",
      "45.4     16\n",
      "135.0    10\n",
      "61.3     10\n",
      "89.6      6\n",
      "224.6     5\n",
      "172.8     5\n",
      "179.8     5\n",
      "33.0      3\n",
      "86.7      3\n",
      "174.5     2\n",
      "258.9     2\n",
      "269.4     2\n",
      "117.9     1\n",
      "213.5     1\n",
      "345.0     1\n",
      "151.1     1\n",
      "102.3     1\n",
      "107.3     1\n",
      "403.8     1\n",
      "Name: Billing Amount (Rs.), dtype: int64 \n",
      " --------------------------------------------------\n"
     ]
    }
   ],
   "source": [
    "for i in col3:\n",
    "    print(data3[i].value_counts(),'\\n','-'*50)"
   ]
  },
  {
   "cell_type": "markdown",
   "id": "02fa8d7e",
   "metadata": {},
   "source": [
    "**Univariate Analysis**"
   ]
  },
  {
   "cell_type": "code",
   "execution_count": 71,
   "id": "a502e6da",
   "metadata": {},
   "outputs": [
    {
     "data": {
      "text/plain": [
       "<AxesSubplot:xlabel='Zone', ylabel='count'>"
      ]
     },
     "execution_count": 71,
     "metadata": {},
     "output_type": "execute_result"
    },
    {
     "data": {
      "image/png": "[encoded data removed]",
      "text/plain": [
       "<Figure size 432x288 with 1 Axes>"
      ]
     },
     "metadata": {
      "needs_background": "light"
     },
     "output_type": "display_data"
    }
   ],
   "source": [
    "sns.countplot(x = data3['Zone'])"
   ]
  },
  {
   "cell_type": "markdown",
   "id": "14904192",
   "metadata": {},
   "source": [
    "- The courier compny has to deliever only in 3 zones.\n",
    "- Zone D has the highest amount of orders.\n",
    "- Then Zone B\n",
    "- And Zone E has the least amout of orders."
   ]
  },
  {
   "cell_type": "code",
   "execution_count": 72,
   "id": "02b95f29",
   "metadata": {
    "scrolled": true
   },
   "outputs": [
    {
     "data": {
      "text/plain": [
       "<AxesSubplot:xlabel='Type of Shipment', ylabel='count'>"
      ]
     },
     "execution_count": 72,
     "metadata": {},
     "output_type": "execute_result"
    },
    {
     "data": {
      "image/png": "[encoded data removed]",
      "text/plain": [
       "<Figure size 432x288 with 1 Axes>"
      ]
     },
     "metadata": {
      "needs_background": "light"
     },
     "output_type": "display_data"
    }
   ],
   "source": [
    "sns.countplot(x = data3['Type of Shipment'])"
   ]
  },
  {
   "cell_type": "markdown",
   "id": "8403d3de",
   "metadata": {},
   "source": [
    "- Only 2 types of shipments are there 1. Forward charges. 2. Forward and RTO charges\n",
    "- Forward and RTO charges are very less then Forward charges."
   ]
  },
  {
   "cell_type": "markdown",
   "id": "e964d79a",
   "metadata": {},
   "source": [
    "**Bivariate Analysis**"
   ]
  },
  {
   "cell_type": "code",
   "execution_count": 65,
   "id": "d60cebee",
   "metadata": {},
   "outputs": [],
   "source": [
    "def scatter(x,y,data):\n",
    "    plt.figure()\n",
    "    plt.scatter(x,y,data=data3)\n",
    "    plt.xlabel(x)\n",
    "    plt.ylabel(y)\n",
    "    print('Scatterpot between',x,'and',y)\n",
    "    plt.show()"
   ]
  },
  {
   "cell_type": "code",
   "execution_count": 68,
   "id": "882d18ed",
   "metadata": {},
   "outputs": [
    {
     "name": "stdout",
     "output_type": "stream",
     "text": [
      "Scatterpot between Zone and Customer Pincode\n"
     ]
    },
    {
     "data": {
      "image/png": "[encoded data removed]",
      "text/plain": [
       "<Figure size 432x288 with 1 Axes>"
      ]
     },
     "metadata": {
      "needs_background": "light"
     },
     "output_type": "display_data"
    }
   ],
   "source": [
    "scatter (x = 'Zone', y = 'Customer Pincode', data = data3)"
   ]
  },
  {
   "cell_type": "markdown",
   "id": "cf3a5b18",
   "metadata": {},
   "source": [
    "- Most of the customer are in zone d.\n",
    "- Most of the pincodes are in zone d."
   ]
  },
  {
   "cell_type": "code",
   "execution_count": 67,
   "id": "9009508c",
   "metadata": {},
   "outputs": [
    {
     "name": "stdout",
     "output_type": "stream",
     "text": [
      "Scatterpot between Zone and Billing Amount (Rs.)\n"
     ]
    },
    {
     "data": {
      "image/png": "[encoded data removed]",
      "text/plain": [
       "<Figure size 432x288 with 1 Axes>"
      ]
     },
     "metadata": {
      "needs_background": "light"
     },
     "output_type": "display_data"
    }
   ],
   "source": [
    "scatter (x = 'Zone', y = 'Billing Amount (Rs.)', data = data3)"
   ]
  },
  {
   "cell_type": "markdown",
   "id": "346c03f9",
   "metadata": {},
   "source": [
    "**In terms of Billing Amount.**\n",
    "- Billing amount for Zone d is from 50 to 400.\n",
    "- Zone b billing amount is from 40 to 180.\n",
    "- And Zone e is the lowest, as there are very less orders from that zone."
   ]
  },
  {
   "cell_type": "code",
   "execution_count": 69,
   "id": "936fdba0",
   "metadata": {},
   "outputs": [
    {
     "name": "stdout",
     "output_type": "stream",
     "text": [
      "Scatterpot between Type of Shipment and Billing Amount (Rs.)\n"
     ]
    },
    {
     "data": {
      "image/png": "[encoded data removed]",
      "text/plain": [
       "<Figure size 432x288 with 1 Axes>"
      ]
     },
     "metadata": {
      "needs_background": "light"
     },
     "output_type": "display_data"
    }
   ],
   "source": [
    "scatter (x = 'Type of Shipment', y = 'Billing Amount (Rs.)', data = data3)"
   ]
  },
  {
   "cell_type": "markdown",
   "id": "22394e50",
   "metadata": {},
   "source": [
    "**In terms of Billing Amount.**\n",
    "- Foward charges are from range 40 to 400\n",
    "- Forward charges and RTO charges are from range 90 to 350"
   ]
  },
  {
   "cell_type": "code",
   "execution_count": 70,
   "id": "750b89c4",
   "metadata": {},
   "outputs": [
    {
     "name": "stdout",
     "output_type": "stream",
     "text": [
      "Scatterpot between Charged Weight and Billing Amount (Rs.)\n"
     ]
    },
    {
     "data": {
      "image/png": "[encoded data removed]",
      "text/plain": [
       "<Figure size 432x288 with 1 Axes>"
      ]
     },
     "metadata": {
      "needs_background": "light"
     },
     "output_type": "display_data"
    }
   ],
   "source": [
    "scatter (x = 'Charged Weight', y = 'Billing Amount (Rs.)', data = data3)"
   ]
  },
  {
   "cell_type": "markdown",
   "id": "5ec39b99",
   "metadata": {},
   "source": [
    "- Graph is in increasing order.\n",
    "- As the weight increase, billing amount is also increasing."
   ]
  },
  {
   "cell_type": "markdown",
   "id": "24d964bd",
   "metadata": {},
   "source": [
    "**Mering Datasets.**"
   ]
  },
  {
   "cell_type": "code",
   "execution_count": 73,
   "id": "65024841",
   "metadata": {},
   "outputs": [],
   "source": [
    "company.rename(columns = {'ExternOrderNo':'Order ID'}, inplace = True)"
   ]
  },
  {
   "cell_type": "code",
   "execution_count": 91,
   "id": "1a729cd8",
   "metadata": {},
   "outputs": [],
   "source": [
    "data4 = pd.merge(company, data3, on=\"Order ID\",how = 'inner')"
   ]
  },
  {
   "cell_type": "code",
   "execution_count": 92,
   "id": "bcda69a7",
   "metadata": {},
   "outputs": [
    {
     "data": {
      "text/html": [
       "<div>\n",
       "<style scoped>\n",
       "    .dataframe tbody tr th:only-of-type {\n",
       "        vertical-align: middle;\n",
       "    }\n",
       "\n",
       "    .dataframe tbody tr th {\n",
       "        vertical-align: top;\n",
       "    }\n",
       "\n",
       "    .dataframe thead th {\n",
       "        text-align: right;\n",
       "    }\n",
       "</style>\n",
       "<table border=\"1\" class=\"dataframe\">\n",
       "  <thead>\n",
       "    <tr style=\"text-align: right;\">\n",
       "      <th></th>\n",
       "      <th>Order ID</th>\n",
       "      <th>SKU</th>\n",
       "      <th>Order Qty</th>\n",
       "      <th>Weight (g)</th>\n",
       "      <th>AWB Code</th>\n",
       "      <th>Charged Weight</th>\n",
       "      <th>Warehouse Pincode</th>\n",
       "      <th>Customer Pincode</th>\n",
       "      <th>Zone</th>\n",
       "      <th>Type of Shipment</th>\n",
       "      <th>Billing Amount (Rs.)</th>\n",
       "    </tr>\n",
       "  </thead>\n",
       "  <tbody>\n",
       "    <tr>\n",
       "      <th>0</th>\n",
       "      <td>2001827036</td>\n",
       "      <td>8904223818706</td>\n",
       "      <td>1.0</td>\n",
       "      <td>127</td>\n",
       "      <td>1091122418320</td>\n",
       "      <td>1.60</td>\n",
       "      <td>121003</td>\n",
       "      <td>173213</td>\n",
       "      <td>b</td>\n",
       "      <td>Forward charges</td>\n",
       "      <td>117.9</td>\n",
       "    </tr>\n",
       "    <tr>\n",
       "      <th>1</th>\n",
       "      <td>2001827036</td>\n",
       "      <td>8904223819093</td>\n",
       "      <td>1.0</td>\n",
       "      <td>150</td>\n",
       "      <td>1091122418320</td>\n",
       "      <td>1.60</td>\n",
       "      <td>121003</td>\n",
       "      <td>173213</td>\n",
       "      <td>b</td>\n",
       "      <td>Forward charges</td>\n",
       "      <td>117.9</td>\n",
       "    </tr>\n",
       "    <tr>\n",
       "      <th>2</th>\n",
       "      <td>2001827036</td>\n",
       "      <td>8904223819109</td>\n",
       "      <td>1.0</td>\n",
       "      <td>100</td>\n",
       "      <td>1091122418320</td>\n",
       "      <td>1.60</td>\n",
       "      <td>121003</td>\n",
       "      <td>173213</td>\n",
       "      <td>b</td>\n",
       "      <td>Forward charges</td>\n",
       "      <td>117.9</td>\n",
       "    </tr>\n",
       "    <tr>\n",
       "      <th>3</th>\n",
       "      <td>2001827036</td>\n",
       "      <td>8904223818430</td>\n",
       "      <td>1.0</td>\n",
       "      <td>165</td>\n",
       "      <td>1091122418320</td>\n",
       "      <td>1.60</td>\n",
       "      <td>121003</td>\n",
       "      <td>173213</td>\n",
       "      <td>b</td>\n",
       "      <td>Forward charges</td>\n",
       "      <td>117.9</td>\n",
       "    </tr>\n",
       "    <tr>\n",
       "      <th>4</th>\n",
       "      <td>2001827036</td>\n",
       "      <td>8904223819277</td>\n",
       "      <td>1.0</td>\n",
       "      <td>350</td>\n",
       "      <td>1091122418320</td>\n",
       "      <td>1.60</td>\n",
       "      <td>121003</td>\n",
       "      <td>173213</td>\n",
       "      <td>b</td>\n",
       "      <td>Forward charges</td>\n",
       "      <td>117.9</td>\n",
       "    </tr>\n",
       "    <tr>\n",
       "      <th>...</th>\n",
       "      <td>...</td>\n",
       "      <td>...</td>\n",
       "      <td>...</td>\n",
       "      <td>...</td>\n",
       "      <td>...</td>\n",
       "      <td>...</td>\n",
       "      <td>...</td>\n",
       "      <td>...</td>\n",
       "      <td>...</td>\n",
       "      <td>...</td>\n",
       "      <td>...</td>\n",
       "    </tr>\n",
       "    <tr>\n",
       "      <th>396</th>\n",
       "      <td>2001806251</td>\n",
       "      <td>8904223819161</td>\n",
       "      <td>1.0</td>\n",
       "      <td>115</td>\n",
       "      <td>1091117222146</td>\n",
       "      <td>1.27</td>\n",
       "      <td>121003</td>\n",
       "      <td>743263</td>\n",
       "      <td>d</td>\n",
       "      <td>Forward charges</td>\n",
       "      <td>135.0</td>\n",
       "    </tr>\n",
       "    <tr>\n",
       "      <th>397</th>\n",
       "      <td>2001806251</td>\n",
       "      <td>8904223819260</td>\n",
       "      <td>1.0</td>\n",
       "      <td>130</td>\n",
       "      <td>1091117222146</td>\n",
       "      <td>1.27</td>\n",
       "      <td>121003</td>\n",
       "      <td>743263</td>\n",
       "      <td>d</td>\n",
       "      <td>Forward charges</td>\n",
       "      <td>135.0</td>\n",
       "    </tr>\n",
       "    <tr>\n",
       "      <th>398</th>\n",
       "      <td>2001806233</td>\n",
       "      <td>8904223819161</td>\n",
       "      <td>1.0</td>\n",
       "      <td>115</td>\n",
       "      <td>1091117222135</td>\n",
       "      <td>0.78</td>\n",
       "      <td>121003</td>\n",
       "      <td>263139</td>\n",
       "      <td>b</td>\n",
       "      <td>Forward charges</td>\n",
       "      <td>61.3</td>\n",
       "    </tr>\n",
       "    <tr>\n",
       "      <th>399</th>\n",
       "      <td>2001806233</td>\n",
       "      <td>8904223819260</td>\n",
       "      <td>1.0</td>\n",
       "      <td>130</td>\n",
       "      <td>1091117222135</td>\n",
       "      <td>0.78</td>\n",
       "      <td>121003</td>\n",
       "      <td>263139</td>\n",
       "      <td>b</td>\n",
       "      <td>Forward charges</td>\n",
       "      <td>61.3</td>\n",
       "    </tr>\n",
       "    <tr>\n",
       "      <th>400</th>\n",
       "      <td>2001807328</td>\n",
       "      <td>8904223818997</td>\n",
       "      <td>1.0</td>\n",
       "      <td>490</td>\n",
       "      <td>1091117324346</td>\n",
       "      <td>2.28</td>\n",
       "      <td>121003</td>\n",
       "      <td>335502</td>\n",
       "      <td>d</td>\n",
       "      <td>Forward charges</td>\n",
       "      <td>224.6</td>\n",
       "    </tr>\n",
       "  </tbody>\n",
       "</table>\n",
       "<p>401 rows × 11 columns</p>\n",
       "</div>"
      ],
      "text/plain": [
       "       Order ID            SKU  Order Qty  Weight (g)       AWB Code  \\\n",
       "0    2001827036  8904223818706        1.0         127  1091122418320   \n",
       "1    2001827036  8904223819093        1.0         150  1091122418320   \n",
       "2    2001827036  8904223819109        1.0         100  1091122418320   \n",
       "3    2001827036  8904223818430        1.0         165  1091122418320   \n",
       "4    2001827036  8904223819277        1.0         350  1091122418320   \n",
       "..          ...            ...        ...         ...            ...   \n",
       "396  2001806251  8904223819161        1.0         115  1091117222146   \n",
       "397  2001806251  8904223819260        1.0         130  1091117222146   \n",
       "398  2001806233  8904223819161        1.0         115  1091117222135   \n",
       "399  2001806233  8904223819260        1.0         130  1091117222135   \n",
       "400  2001807328  8904223818997        1.0         490  1091117324346   \n",
       "\n",
       "     Charged Weight  Warehouse Pincode  Customer Pincode Zone  \\\n",
       "0              1.60             121003            173213    b   \n",
       "1              1.60             121003            173213    b   \n",
       "2              1.60             121003            173213    b   \n",
       "3              1.60             121003            173213    b   \n",
       "4              1.60             121003            173213    b   \n",
       "..              ...                ...               ...  ...   \n",
       "396            1.27             121003            743263    d   \n",
       "397            1.27             121003            743263    d   \n",
       "398            0.78             121003            263139    b   \n",
       "399            0.78             121003            263139    b   \n",
       "400            2.28             121003            335502    d   \n",
       "\n",
       "    Type of Shipment  Billing Amount (Rs.)  \n",
       "0    Forward charges                 117.9  \n",
       "1    Forward charges                 117.9  \n",
       "2    Forward charges                 117.9  \n",
       "3    Forward charges                 117.9  \n",
       "4    Forward charges                 117.9  \n",
       "..               ...                   ...  \n",
       "396  Forward charges                 135.0  \n",
       "397  Forward charges                 135.0  \n",
       "398  Forward charges                  61.3  \n",
       "399  Forward charges                  61.3  \n",
       "400  Forward charges                 224.6  \n",
       "\n",
       "[401 rows x 11 columns]"
      ]
     },
     "execution_count": 92,
     "metadata": {},
     "output_type": "execute_result"
    }
   ],
   "source": [
    "data4"
   ]
  },
  {
   "cell_type": "code",
   "execution_count": 82,
   "id": "90709fda",
   "metadata": {},
   "outputs": [
    {
     "name": "stdout",
     "output_type": "stream",
     "text": [
      "<class 'pandas.core.frame.DataFrame'>\n",
      "Int64Index: 401 entries, 0 to 400\n",
      "Data columns (total 11 columns):\n",
      " #   Column                Non-Null Count  Dtype  \n",
      "---  ------                --------------  -----  \n",
      " 0   Order ID              401 non-null    int64  \n",
      " 1   SKU                   401 non-null    object \n",
      " 2   Order Qty             401 non-null    float64\n",
      " 3   Weight (g)            401 non-null    int64  \n",
      " 4   AWB Code              401 non-null    int64  \n",
      " 5   Charged Weight        401 non-null    float64\n",
      " 6   Warehouse Pincode     401 non-null    int64  \n",
      " 7   Customer Pincode      401 non-null    int64  \n",
      " 8   Zone                  401 non-null    object \n",
      " 9   Type of Shipment      401 non-null    object \n",
      " 10  Billing Amount (Rs.)  401 non-null    float64\n",
      "dtypes: float64(3), int64(5), object(3)\n",
      "memory usage: 53.8+ KB\n"
     ]
    }
   ],
   "source": [
    "data4.info()"
   ]
  },
  {
   "cell_type": "code",
   "execution_count": 84,
   "id": "6170da6a",
   "metadata": {},
   "outputs": [
    {
     "data": {
      "text/html": [
       "<div>\n",
       "<style scoped>\n",
       "    .dataframe tbody tr th:only-of-type {\n",
       "        vertical-align: middle;\n",
       "    }\n",
       "\n",
       "    .dataframe tbody tr th {\n",
       "        vertical-align: top;\n",
       "    }\n",
       "\n",
       "    .dataframe thead th {\n",
       "        text-align: right;\n",
       "    }\n",
       "</style>\n",
       "<table border=\"1\" class=\"dataframe\">\n",
       "  <thead>\n",
       "    <tr style=\"text-align: right;\">\n",
       "      <th></th>\n",
       "      <th>Order ID</th>\n",
       "      <th>Order Qty</th>\n",
       "      <th>Weight (g)</th>\n",
       "      <th>AWB Code</th>\n",
       "      <th>Charged Weight</th>\n",
       "      <th>Warehouse Pincode</th>\n",
       "      <th>Customer Pincode</th>\n",
       "      <th>Billing Amount (Rs.)</th>\n",
       "    </tr>\n",
       "  </thead>\n",
       "  <tbody>\n",
       "    <tr>\n",
       "      <th>count</th>\n",
       "      <td>4.010000e+02</td>\n",
       "      <td>401.000000</td>\n",
       "      <td>401.000000</td>\n",
       "      <td>4.010000e+02</td>\n",
       "      <td>401.000000</td>\n",
       "      <td>401.0</td>\n",
       "      <td>401.000000</td>\n",
       "      <td>401.000000</td>\n",
       "    </tr>\n",
       "    <tr>\n",
       "      <th>mean</th>\n",
       "      <td>2.001811e+09</td>\n",
       "      <td>1.296758</td>\n",
       "      <td>181.566085</td>\n",
       "      <td>1.091118e+12</td>\n",
       "      <td>1.116534</td>\n",
       "      <td>121003.0</td>\n",
       "      <td>358744.940150</td>\n",
       "      <td>123.248130</td>\n",
       "    </tr>\n",
       "    <tr>\n",
       "      <th>std</th>\n",
       "      <td>5.244070e+03</td>\n",
       "      <td>0.918811</td>\n",
       "      <td>92.583321</td>\n",
       "      <td>1.534932e+06</td>\n",
       "      <td>0.712407</td>\n",
       "      <td>0.0</td>\n",
       "      <td>145882.764283</td>\n",
       "      <td>69.179298</td>\n",
       "    </tr>\n",
       "    <tr>\n",
       "      <th>min</th>\n",
       "      <td>2.001806e+09</td>\n",
       "      <td>1.000000</td>\n",
       "      <td>10.000000</td>\n",
       "      <td>1.091117e+12</td>\n",
       "      <td>0.150000</td>\n",
       "      <td>121003.0</td>\n",
       "      <td>140301.000000</td>\n",
       "      <td>33.000000</td>\n",
       "    </tr>\n",
       "    <tr>\n",
       "      <th>25%</th>\n",
       "      <td>2.001807e+09</td>\n",
       "      <td>1.000000</td>\n",
       "      <td>121.000000</td>\n",
       "      <td>1.091117e+12</td>\n",
       "      <td>0.680000</td>\n",
       "      <td>121003.0</td>\n",
       "      <td>302012.000000</td>\n",
       "      <td>89.600000</td>\n",
       "    </tr>\n",
       "    <tr>\n",
       "      <th>50%</th>\n",
       "      <td>2.001809e+09</td>\n",
       "      <td>1.000000</td>\n",
       "      <td>133.000000</td>\n",
       "      <td>1.091117e+12</td>\n",
       "      <td>0.800000</td>\n",
       "      <td>121003.0</td>\n",
       "      <td>314401.000000</td>\n",
       "      <td>90.200000</td>\n",
       "    </tr>\n",
       "    <tr>\n",
       "      <th>75%</th>\n",
       "      <td>2.001812e+09</td>\n",
       "      <td>1.000000</td>\n",
       "      <td>240.000000</td>\n",
       "      <td>1.091119e+12</td>\n",
       "      <td>1.300000</td>\n",
       "      <td>121003.0</td>\n",
       "      <td>410206.000000</td>\n",
       "      <td>151.100000</td>\n",
       "    </tr>\n",
       "    <tr>\n",
       "      <th>max</th>\n",
       "      <td>2.001827e+09</td>\n",
       "      <td>8.000000</td>\n",
       "      <td>600.000000</td>\n",
       "      <td>1.091122e+12</td>\n",
       "      <td>4.130000</td>\n",
       "      <td>121003.0</td>\n",
       "      <td>845438.000000</td>\n",
       "      <td>403.800000</td>\n",
       "    </tr>\n",
       "  </tbody>\n",
       "</table>\n",
       "</div>"
      ],
      "text/plain": [
       "           Order ID   Order Qty  Weight (g)      AWB Code  Charged Weight  \\\n",
       "count  4.010000e+02  401.000000  401.000000  4.010000e+02      401.000000   \n",
       "mean   2.001811e+09    1.296758  181.566085  1.091118e+12        1.116534   \n",
       "std    5.244070e+03    0.918811   92.583321  1.534932e+06        0.712407   \n",
       "min    2.001806e+09    1.000000   10.000000  1.091117e+12        0.150000   \n",
       "25%    2.001807e+09    1.000000  121.000000  1.091117e+12        0.680000   \n",
       "50%    2.001809e+09    1.000000  133.000000  1.091117e+12        0.800000   \n",
       "75%    2.001812e+09    1.000000  240.000000  1.091119e+12        1.300000   \n",
       "max    2.001827e+09    8.000000  600.000000  1.091122e+12        4.130000   \n",
       "\n",
       "       Warehouse Pincode  Customer Pincode  Billing Amount (Rs.)  \n",
       "count              401.0        401.000000            401.000000  \n",
       "mean            121003.0     358744.940150            123.248130  \n",
       "std                  0.0     145882.764283             69.179298  \n",
       "min             121003.0     140301.000000             33.000000  \n",
       "25%             121003.0     302012.000000             89.600000  \n",
       "50%             121003.0     314401.000000             90.200000  \n",
       "75%             121003.0     410206.000000            151.100000  \n",
       "max             121003.0     845438.000000            403.800000  "
      ]
     },
     "execution_count": 84,
     "metadata": {},
     "output_type": "execute_result"
    }
   ],
   "source": [
    "data4.describe()"
   ]
  },
  {
   "cell_type": "code",
   "execution_count": 77,
   "id": "71f9b5c9",
   "metadata": {},
   "outputs": [
    {
     "data": {
      "text/plain": [
       "<AxesSubplot:xlabel='Zone', ylabel='count'>"
      ]
     },
     "execution_count": 77,
     "metadata": {},
     "output_type": "execute_result"
    },
    {
     "data": {
      "image/png": "[encoded data removed]",
      "text/plain": [
       "<Figure size 432x288 with 1 Axes>"
      ]
     },
     "metadata": {
      "needs_background": "light"
     },
     "output_type": "display_data"
    }
   ],
   "source": [
    "sns.countplot(x = data4['Zone'])"
   ]
  },
  {
   "cell_type": "markdown",
   "id": "f3dc163a",
   "metadata": {},
   "source": [
    "**No difference found**"
   ]
  },
  {
   "cell_type": "code",
   "execution_count": 78,
   "id": "3fad515d",
   "metadata": {},
   "outputs": [
    {
     "data": {
      "text/plain": [
       "<AxesSubplot:xlabel='Type of Shipment', ylabel='count'>"
      ]
     },
     "execution_count": 78,
     "metadata": {},
     "output_type": "execute_result"
    },
    {
     "data": {
      "image/png": "[encoded data removed]",
      "text/plain": [
       "<Figure size 432x288 with 1 Axes>"
      ]
     },
     "metadata": {
      "needs_background": "light"
     },
     "output_type": "display_data"
    }
   ],
   "source": [
    "sns.countplot(data4['Type of Shipment'])"
   ]
  },
  {
   "cell_type": "markdown",
   "id": "4b275e57",
   "metadata": {},
   "source": [
    "**No difference found**"
   ]
  },
  {
   "cell_type": "code",
   "execution_count": 87,
   "id": "a673f827",
   "metadata": {},
   "outputs": [
    {
     "data": {
      "text/plain": [
       "<AxesSubplot:xlabel='count', ylabel='Weight (g)'>"
      ]
     },
     "execution_count": 87,
     "metadata": {},
     "output_type": "execute_result"
    },
    {
     "data": {
      "image/png": "[encoded data removed]",
      "text/plain": [
       "<Figure size 720x720 with 1 Axes>"
      ]
     },
     "metadata": {
      "needs_background": "light"
     },
     "output_type": "display_data"
    }
   ],
   "source": [
    "plt.figure(figsize = (10,10))\n",
    "sns.countplot(y = 'Weight (g)', data = data4)"
   ]
  },
  {
   "cell_type": "markdown",
   "id": "6ddd032b",
   "metadata": {},
   "source": [
    "- Highest weightis 240 KG counts approx 96-98 times.\n",
    "- Then 127 KG counts approx 56-58 times.\n",
    "- Lowest count is 552 KG, 490 KG, 300 KG, 250 KG, 160 KG, 102 KG, 30 KG."
   ]
  },
  {
   "cell_type": "code",
   "execution_count": 76,
   "id": "0fedc78b",
   "metadata": {},
   "outputs": [
    {
     "name": "stdout",
     "output_type": "stream",
     "text": [
      "Scatterpot between Zone and Billing Amount (Rs.)\n"
     ]
    },
    {
     "data": {
      "image/png": "[encoded data removed]",
      "text/plain": [
       "<Figure size 432x288 with 1 Axes>"
      ]
     },
     "metadata": {
      "needs_background": "light"
     },
     "output_type": "display_data"
    }
   ],
   "source": [
    "scatter(x = 'Zone', y = 'Billing Amount (Rs.)', data = data4)"
   ]
  },
  {
   "cell_type": "markdown",
   "id": "123fcefd",
   "metadata": {},
   "source": [
    "**No difference found**"
   ]
  },
  {
   "cell_type": "code",
   "execution_count": 63,
   "id": "828a2492",
   "metadata": {},
   "outputs": [
    {
     "data": {
      "text/plain": [
       "<AxesSubplot:xlabel='Zone', ylabel='Billing Amount (Rs.)'>"
      ]
     },
     "execution_count": 63,
     "metadata": {},
     "output_type": "execute_result"
    },
    {
     "data": {
      "image/png": "[encoded data removed]",
      "text/plain": [
       "<Figure size 432x288 with 1 Axes>"
      ]
     },
     "metadata": {
      "needs_background": "light"
     },
     "output_type": "display_data"
    }
   ],
   "source": [
    "sns.scatterplot(x = data4['Zone'], y = data4['Billing Amount (Rs.)'])"
   ]
  },
  {
   "cell_type": "markdown",
   "id": "27144bef",
   "metadata": {},
   "source": [
    "**No difference found**"
   ]
  },
  {
   "cell_type": "markdown",
   "id": "3406be7d",
   "metadata": {},
   "source": [
    "**Weight Slab**"
   ]
  },
  {
   "cell_type": "code",
   "execution_count": 776,
   "id": "46e19804",
   "metadata": {},
   "outputs": [
    {
     "data": {
      "text/html": [
       "<div>\n",
       "<style scoped>\n",
       "    .dataframe tbody tr th:only-of-type {\n",
       "        vertical-align: middle;\n",
       "    }\n",
       "\n",
       "    .dataframe tbody tr th {\n",
       "        vertical-align: top;\n",
       "    }\n",
       "\n",
       "    .dataframe thead th {\n",
       "        text-align: right;\n",
       "    }\n",
       "</style>\n",
       "<table border=\"1\" class=\"dataframe\">\n",
       "  <thead>\n",
       "    <tr style=\"text-align: right;\">\n",
       "      <th></th>\n",
       "      <th>Zone</th>\n",
       "      <th>Weight Slabs</th>\n",
       "      <th>Forward Fixed Charge</th>\n",
       "      <th>Forward Additional Weight Slab Charge</th>\n",
       "      <th>RTO Fixed Charge</th>\n",
       "      <th>RTO Additional Weight Slab Charge</th>\n",
       "    </tr>\n",
       "  </thead>\n",
       "  <tbody>\n",
       "    <tr>\n",
       "      <th>0</th>\n",
       "      <td>A</td>\n",
       "      <td>0.25</td>\n",
       "      <td>29.50</td>\n",
       "      <td>23.60</td>\n",
       "      <td>13.60</td>\n",
       "      <td>23.60</td>\n",
       "    </tr>\n",
       "    <tr>\n",
       "      <th>1</th>\n",
       "      <td>B</td>\n",
       "      <td>0.50</td>\n",
       "      <td>33.00</td>\n",
       "      <td>28.30</td>\n",
       "      <td>20.50</td>\n",
       "      <td>28.30</td>\n",
       "    </tr>\n",
       "    <tr>\n",
       "      <th>2</th>\n",
       "      <td>C</td>\n",
       "      <td>0.75</td>\n",
       "      <td>40.10</td>\n",
       "      <td>38.90</td>\n",
       "      <td>31.90</td>\n",
       "      <td>38.90</td>\n",
       "    </tr>\n",
       "    <tr>\n",
       "      <th>3</th>\n",
       "      <td>D</td>\n",
       "      <td>1.25</td>\n",
       "      <td>45.40</td>\n",
       "      <td>44.80</td>\n",
       "      <td>41.30</td>\n",
       "      <td>44.80</td>\n",
       "    </tr>\n",
       "    <tr>\n",
       "      <th>4</th>\n",
       "      <td>E</td>\n",
       "      <td>1.50</td>\n",
       "      <td>56.60</td>\n",
       "      <td>55.50</td>\n",
       "      <td>50.70</td>\n",
       "      <td>55.50</td>\n",
       "    </tr>\n",
       "  </tbody>\n",
       "</table>\n",
       "</div>"
      ],
      "text/plain": [
       "  Zone  Weight Slabs  Forward Fixed Charge  \\\n",
       "0    A          0.25                 29.50   \n",
       "1    B          0.50                 33.00   \n",
       "2    C          0.75                 40.10   \n",
       "3    D          1.25                 45.40   \n",
       "4    E          1.50                 56.60   \n",
       "\n",
       "   Forward Additional Weight Slab Charge  RTO Fixed Charge  \\\n",
       "0                                  23.60             13.60   \n",
       "1                                  28.30             20.50   \n",
       "2                                  38.90             31.90   \n",
       "3                                  44.80             41.30   \n",
       "4                                  55.50             50.70   \n",
       "\n",
       "   RTO Additional Weight Slab Charge  \n",
       "0                              23.60  \n",
       "1                              28.30  \n",
       "2                              38.90  \n",
       "3                              44.80  \n",
       "4                              55.50  "
      ]
     },
     "execution_count": 776,
     "metadata": {},
     "output_type": "execute_result"
    }
   ],
   "source": [
    "data5"
   ]
  },
  {
   "cell_type": "markdown",
   "id": "e5764621",
   "metadata": {},
   "source": [
    "**Creating the expected dataset based on weight slab's data**"
   ]
  },
  {
   "cell_type": "code",
   "execution_count": 733,
   "id": "53e0360d",
   "metadata": {},
   "outputs": [],
   "source": [
    "expected = pd.DataFrame({'Order ID':output['Order ID'],'Weight':output['Total weight as per X (KG)'],'Zone':output['Delivery Zone as per X'],'Shipment':output['Type of Shipment'],'slab':output['Weight slab as per X (KG)']})"
   ]
  },
  {
   "cell_type": "markdown",
   "id": "3370c541",
   "metadata": {},
   "source": [
    "**- Expected['round'] is the rounds of slabs it will take for particular weight.**"
   ]
  },
  {
   "cell_type": "code",
   "execution_count": 734,
   "id": "3537a298",
   "metadata": {},
   "outputs": [],
   "source": [
    "expected['round'] = expected['Weight']/expected['slab']"
   ]
  },
  {
   "cell_type": "code",
   "execution_count": 735,
   "id": "d61dc10e",
   "metadata": {},
   "outputs": [],
   "source": [
    "expected['round'] = expected['round'].apply(np.ceil)"
   ]
  },
  {
   "cell_type": "code",
   "execution_count": 736,
   "id": "fd53f800",
   "metadata": {},
   "outputs": [],
   "source": [
    "expected['round'] = expected['round'].astype('int')"
   ]
  },
  {
   "cell_type": "markdown",
   "id": "d0da7837",
   "metadata": {},
   "source": [
    "**- Forward Fixed Charge and Forward Additional Weight Slab Charge columns**"
   ]
  },
  {
   "cell_type": "code",
   "execution_count": 737,
   "id": "35a0d91d",
   "metadata": {},
   "outputs": [],
   "source": [
    "def condi_(x):\n",
    "    if x == 'b':\n",
    "        return 33.3\n",
    "    \n",
    "    elif x == 'd':\n",
    "        return 45.4\n",
    "    \n",
    "    else:\n",
    "        return 56.6"
   ]
  },
  {
   "cell_type": "code",
   "execution_count": 738,
   "id": "c4791219",
   "metadata": {},
   "outputs": [],
   "source": [
    "def condi_(x):\n",
    "    if x == 'b':\n",
    "        return 28.3\n",
    "    \n",
    "    elif x == 'd':\n",
    "        return 44.8\n",
    "    \n",
    "    else:\n",
    "        return 55.5"
   ]
  },
  {
   "cell_type": "code",
   "execution_count": 739,
   "id": "93639294",
   "metadata": {},
   "outputs": [],
   "source": [
    "expected['FFC'] = expected['Zone'].apply(condi)"
   ]
  },
  {
   "cell_type": "code",
   "execution_count": 740,
   "id": "7ac4ba30",
   "metadata": {},
   "outputs": [],
   "source": [
    "expected['FAW'] = expected['Zone'].apply(condi_)"
   ]
  },
  {
   "cell_type": "markdown",
   "id": "c333a7b5",
   "metadata": {},
   "source": [
    "**- Price Per Weight Column.**"
   ]
  },
  {
   "cell_type": "code",
   "execution_count": 741,
   "id": "3208d159",
   "metadata": {},
   "outputs": [],
   "source": [
    "df = []\n",
    "for i in expected['round']:\n",
    "    if i <= 1:\n",
    "        df.append(expected['FFC']) \n",
    "    elif i == 2:\n",
    "        df.append(expected['FFC']+expected['FAW'])\n",
    "    else:\n",
    "        while(i <= 1):\n",
    "            a = expected['FFC']\n",
    "            b = expected['FAW']\n",
    "            for i in range(1, i-1):\n",
    "                c = a + b\n",
    "                a = b\n",
    "                b = c\n",
    "            df.append(b)"
   ]
  },
  {
   "cell_type": "code",
   "execution_count": 742,
   "id": "0fde449b",
   "metadata": {},
   "outputs": [],
   "source": [
    "expected['Price per weight'] = df[0]"
   ]
  },
  {
   "cell_type": "code",
   "execution_count": 743,
   "id": "2d8854d4",
   "metadata": {
    "scrolled": true
   },
   "outputs": [
    {
     "data": {
      "text/html": [
       "<div>\n",
       "<style scoped>\n",
       "    .dataframe tbody tr th:only-of-type {\n",
       "        vertical-align: middle;\n",
       "    }\n",
       "\n",
       "    .dataframe tbody tr th {\n",
       "        vertical-align: top;\n",
       "    }\n",
       "\n",
       "    .dataframe thead th {\n",
       "        text-align: right;\n",
       "    }\n",
       "</style>\n",
       "<table border=\"1\" class=\"dataframe\">\n",
       "  <thead>\n",
       "    <tr style=\"text-align: right;\">\n",
       "      <th></th>\n",
       "      <th>Order ID</th>\n",
       "      <th>Weight</th>\n",
       "      <th>Zone</th>\n",
       "      <th>Shipment</th>\n",
       "      <th>slab</th>\n",
       "      <th>round</th>\n",
       "      <th>FFC</th>\n",
       "      <th>FAW</th>\n",
       "      <th>Price per weight</th>\n",
       "    </tr>\n",
       "  </thead>\n",
       "  <tbody>\n",
       "    <tr>\n",
       "      <th>0</th>\n",
       "      <td>2001827036</td>\n",
       "      <td>1.27</td>\n",
       "      <td>b</td>\n",
       "      <td>Forward charges</td>\n",
       "      <td>0.50</td>\n",
       "      <td>3</td>\n",
       "      <td>33.00</td>\n",
       "      <td>28.30</td>\n",
       "      <td>61.30</td>\n",
       "    </tr>\n",
       "    <tr>\n",
       "      <th>1</th>\n",
       "      <td>2001827036</td>\n",
       "      <td>1.50</td>\n",
       "      <td>b</td>\n",
       "      <td>Forward charges</td>\n",
       "      <td>0.50</td>\n",
       "      <td>3</td>\n",
       "      <td>33.00</td>\n",
       "      <td>28.30</td>\n",
       "      <td>61.30</td>\n",
       "    </tr>\n",
       "    <tr>\n",
       "      <th>2</th>\n",
       "      <td>2001827036</td>\n",
       "      <td>1.00</td>\n",
       "      <td>b</td>\n",
       "      <td>Forward charges</td>\n",
       "      <td>0.50</td>\n",
       "      <td>2</td>\n",
       "      <td>33.00</td>\n",
       "      <td>28.30</td>\n",
       "      <td>61.30</td>\n",
       "    </tr>\n",
       "    <tr>\n",
       "      <th>3</th>\n",
       "      <td>2001827036</td>\n",
       "      <td>1.65</td>\n",
       "      <td>b</td>\n",
       "      <td>Forward charges</td>\n",
       "      <td>0.50</td>\n",
       "      <td>4</td>\n",
       "      <td>33.00</td>\n",
       "      <td>28.30</td>\n",
       "      <td>61.30</td>\n",
       "    </tr>\n",
       "    <tr>\n",
       "      <th>4</th>\n",
       "      <td>2001827036</td>\n",
       "      <td>3.50</td>\n",
       "      <td>b</td>\n",
       "      <td>Forward charges</td>\n",
       "      <td>0.50</td>\n",
       "      <td>7</td>\n",
       "      <td>33.00</td>\n",
       "      <td>28.30</td>\n",
       "      <td>61.30</td>\n",
       "    </tr>\n",
       "    <tr>\n",
       "      <th>...</th>\n",
       "      <td>...</td>\n",
       "      <td>...</td>\n",
       "      <td>...</td>\n",
       "      <td>...</td>\n",
       "      <td>...</td>\n",
       "      <td>...</td>\n",
       "      <td>...</td>\n",
       "      <td>...</td>\n",
       "      <td>...</td>\n",
       "    </tr>\n",
       "    <tr>\n",
       "      <th>396</th>\n",
       "      <td>2001806251</td>\n",
       "      <td>1.15</td>\n",
       "      <td>d</td>\n",
       "      <td>Forward charges</td>\n",
       "      <td>1.25</td>\n",
       "      <td>1</td>\n",
       "      <td>45.40</td>\n",
       "      <td>44.80</td>\n",
       "      <td>90.20</td>\n",
       "    </tr>\n",
       "    <tr>\n",
       "      <th>397</th>\n",
       "      <td>2001806251</td>\n",
       "      <td>1.30</td>\n",
       "      <td>d</td>\n",
       "      <td>Forward charges</td>\n",
       "      <td>1.25</td>\n",
       "      <td>2</td>\n",
       "      <td>45.40</td>\n",
       "      <td>44.80</td>\n",
       "      <td>90.20</td>\n",
       "    </tr>\n",
       "    <tr>\n",
       "      <th>398</th>\n",
       "      <td>2001806233</td>\n",
       "      <td>1.15</td>\n",
       "      <td>b</td>\n",
       "      <td>Forward charges</td>\n",
       "      <td>0.50</td>\n",
       "      <td>3</td>\n",
       "      <td>33.00</td>\n",
       "      <td>28.30</td>\n",
       "      <td>61.30</td>\n",
       "    </tr>\n",
       "    <tr>\n",
       "      <th>399</th>\n",
       "      <td>2001806233</td>\n",
       "      <td>1.30</td>\n",
       "      <td>b</td>\n",
       "      <td>Forward charges</td>\n",
       "      <td>0.50</td>\n",
       "      <td>3</td>\n",
       "      <td>33.00</td>\n",
       "      <td>28.30</td>\n",
       "      <td>61.30</td>\n",
       "    </tr>\n",
       "    <tr>\n",
       "      <th>400</th>\n",
       "      <td>2001807328</td>\n",
       "      <td>4.90</td>\n",
       "      <td>d</td>\n",
       "      <td>Forward charges</td>\n",
       "      <td>1.25</td>\n",
       "      <td>4</td>\n",
       "      <td>45.40</td>\n",
       "      <td>44.80</td>\n",
       "      <td>90.20</td>\n",
       "    </tr>\n",
       "  </tbody>\n",
       "</table>\n",
       "<p>401 rows × 9 columns</p>\n",
       "</div>"
      ],
      "text/plain": [
       "       Order ID  Weight Zone         Shipment  slab  round   FFC   FAW  \\\n",
       "0    2001827036    1.27    b  Forward charges  0.50      3 33.00 28.30   \n",
       "1    2001827036    1.50    b  Forward charges  0.50      3 33.00 28.30   \n",
       "2    2001827036    1.00    b  Forward charges  0.50      2 33.00 28.30   \n",
       "3    2001827036    1.65    b  Forward charges  0.50      4 33.00 28.30   \n",
       "4    2001827036    3.50    b  Forward charges  0.50      7 33.00 28.30   \n",
       "..          ...     ...  ...              ...   ...    ...   ...   ...   \n",
       "396  2001806251    1.15    d  Forward charges  1.25      1 45.40 44.80   \n",
       "397  2001806251    1.30    d  Forward charges  1.25      2 45.40 44.80   \n",
       "398  2001806233    1.15    b  Forward charges  0.50      3 33.00 28.30   \n",
       "399  2001806233    1.30    b  Forward charges  0.50      3 33.00 28.30   \n",
       "400  2001807328    4.90    d  Forward charges  1.25      4 45.40 44.80   \n",
       "\n",
       "     Price per weight  \n",
       "0               61.30  \n",
       "1               61.30  \n",
       "2               61.30  \n",
       "3               61.30  \n",
       "4               61.30  \n",
       "..                ...  \n",
       "396             90.20  \n",
       "397             90.20  \n",
       "398             61.30  \n",
       "399             61.30  \n",
       "400             90.20  \n",
       "\n",
       "[401 rows x 9 columns]"
      ]
     },
     "execution_count": 743,
     "metadata": {},
     "output_type": "execute_result"
    }
   ],
   "source": [
    "expected"
   ]
  },
  {
   "cell_type": "markdown",
   "id": "5b1cfa74",
   "metadata": {},
   "source": [
    "## **Output Dataset**\n",
    "\n",
    "Create a resultant CSV/Excel file with the following columns:\n",
    "\n",
    "● Order ID\n",
    "\n",
    "● AWB Number\n",
    "\n",
    "● Total weight as per X (KG)\n",
    "\n",
    "● Weight slab as per X (KG)\n",
    "\n",
    "● Total weight as per Courier Company (KG)\n",
    "\n",
    "● Weight slab charged by Courier Company (KG)\n",
    "\n",
    "● Delivery Zone as per X\n",
    "\n",
    "● Delivery Zone charged by Courier Company\n",
    "\n",
    "● Expected Charge as per X (Rs.)\n",
    "\n",
    "● Charges Billed by Courier Company (Rs.)\n",
    "\n",
    "● Difference Between Expected Charges and Billed Charges (Rs.)"
   ]
  },
  {
   "cell_type": "code",
   "execution_count": 729,
   "id": "a5c8d2d6",
   "metadata": {},
   "outputs": [],
   "source": [
    "output = pd.DataFrame({'Order ID' : data4['Order ID'],'AWB Number' : data4['AWB Code'],'Total weight as per X (KG)':data4['Weight (g)'],'Weight slab charged by Courier Company (KG)':data4['Charged Weight'],'Delivery Zone as per X':data4['Zone'],'Delivery Zone charged by Courier Company':data4['Zone'],'Type of Shipment':data4['Type of Shipment']})"
   ]
  },
  {
   "cell_type": "code",
   "execution_count": 730,
   "id": "bb36749a",
   "metadata": {},
   "outputs": [],
   "source": [
    "output['Total weight as per X (KG)'] = output['Total weight as per X (KG)']/100"
   ]
  },
  {
   "cell_type": "code",
   "execution_count": 731,
   "id": "c3e068dd",
   "metadata": {},
   "outputs": [],
   "source": [
    "slab = []\n",
    "for i in data4['Zone']:\n",
    "    if i == 'b':\n",
    "        slab.append(0.50)\n",
    "        \n",
    "    elif i == 'd':\n",
    "        slab.append(1.25)\n",
    "    \n",
    "    else:\n",
    "        slab.append(1.50)"
   ]
  },
  {
   "cell_type": "code",
   "execution_count": 732,
   "id": "ae99b65d",
   "metadata": {},
   "outputs": [],
   "source": [
    "output['Weight slab as per X (KG)'] = slab"
   ]
  },
  {
   "cell_type": "code",
   "execution_count": 744,
   "id": "721fa220",
   "metadata": {},
   "outputs": [],
   "source": [
    "output['Expected Charge as per X (Rs.)'] = expected['Price per weight']"
   ]
  },
  {
   "cell_type": "code",
   "execution_count": 745,
   "id": "7be153b0",
   "metadata": {},
   "outputs": [],
   "source": [
    "output['Charges Billed by Courier Company (Rs.)'] = data4['Billing Amount (Rs.)']"
   ]
  },
  {
   "cell_type": "code",
   "execution_count": 746,
   "id": "71297a63",
   "metadata": {},
   "outputs": [],
   "source": [
    "output['Difference Between Expected Charges and Billed Charges (Rs.)'] = output['Charges Billed by Courier Company (Rs.)'] - output['Expected Charge as per X (Rs.)']"
   ]
  },
  {
   "cell_type": "code",
   "execution_count": 751,
   "id": "29968ed8",
   "metadata": {},
   "outputs": [],
   "source": [
    "output.drop_duplicates(inplace = True)"
   ]
  },
  {
   "cell_type": "markdown",
   "id": "dfcb1401",
   "metadata": {},
   "source": [
    "**Final Output Dataset.**"
   ]
  },
  {
   "cell_type": "code",
   "execution_count": 777,
   "id": "131df2bf",
   "metadata": {},
   "outputs": [
    {
     "data": {
      "text/html": [
       "<div>\n",
       "<style scoped>\n",
       "    .dataframe tbody tr th:only-of-type {\n",
       "        vertical-align: middle;\n",
       "    }\n",
       "\n",
       "    .dataframe tbody tr th {\n",
       "        vertical-align: top;\n",
       "    }\n",
       "\n",
       "    .dataframe thead th {\n",
       "        text-align: right;\n",
       "    }\n",
       "</style>\n",
       "<table border=\"1\" class=\"dataframe\">\n",
       "  <thead>\n",
       "    <tr style=\"text-align: right;\">\n",
       "      <th></th>\n",
       "      <th>Order ID</th>\n",
       "      <th>AWB Number</th>\n",
       "      <th>Total weight as per X (KG)</th>\n",
       "      <th>Weight slab charged by Courier Company (KG)</th>\n",
       "      <th>Delivery Zone as per X</th>\n",
       "      <th>Delivery Zone charged by Courier Company</th>\n",
       "      <th>Type of Shipment</th>\n",
       "      <th>Weight slab as per X (KG)</th>\n",
       "      <th>Expected Charge as per X (Rs.)</th>\n",
       "      <th>Charges Billed by Courier Company (Rs.)</th>\n",
       "      <th>Difference Between Expected Charges and Billed Charges (Rs.)</th>\n",
       "    </tr>\n",
       "  </thead>\n",
       "  <tbody>\n",
       "    <tr>\n",
       "      <th>0</th>\n",
       "      <td>2001827036</td>\n",
       "      <td>1091122418320</td>\n",
       "      <td>1.27</td>\n",
       "      <td>1.60</td>\n",
       "      <td>b</td>\n",
       "      <td>b</td>\n",
       "      <td>Forward charges</td>\n",
       "      <td>0.50</td>\n",
       "      <td>61.30</td>\n",
       "      <td>117.90</td>\n",
       "      <td>56.60</td>\n",
       "    </tr>\n",
       "    <tr>\n",
       "      <th>1</th>\n",
       "      <td>2001827036</td>\n",
       "      <td>1091122418320</td>\n",
       "      <td>1.50</td>\n",
       "      <td>1.60</td>\n",
       "      <td>b</td>\n",
       "      <td>b</td>\n",
       "      <td>Forward charges</td>\n",
       "      <td>0.50</td>\n",
       "      <td>61.30</td>\n",
       "      <td>117.90</td>\n",
       "      <td>56.60</td>\n",
       "    </tr>\n",
       "    <tr>\n",
       "      <th>2</th>\n",
       "      <td>2001827036</td>\n",
       "      <td>1091122418320</td>\n",
       "      <td>1.00</td>\n",
       "      <td>1.60</td>\n",
       "      <td>b</td>\n",
       "      <td>b</td>\n",
       "      <td>Forward charges</td>\n",
       "      <td>0.50</td>\n",
       "      <td>61.30</td>\n",
       "      <td>117.90</td>\n",
       "      <td>56.60</td>\n",
       "    </tr>\n",
       "    <tr>\n",
       "      <th>3</th>\n",
       "      <td>2001827036</td>\n",
       "      <td>1091122418320</td>\n",
       "      <td>1.65</td>\n",
       "      <td>1.60</td>\n",
       "      <td>b</td>\n",
       "      <td>b</td>\n",
       "      <td>Forward charges</td>\n",
       "      <td>0.50</td>\n",
       "      <td>61.30</td>\n",
       "      <td>117.90</td>\n",
       "      <td>56.60</td>\n",
       "    </tr>\n",
       "    <tr>\n",
       "      <th>4</th>\n",
       "      <td>2001827036</td>\n",
       "      <td>1091122418320</td>\n",
       "      <td>3.50</td>\n",
       "      <td>1.60</td>\n",
       "      <td>b</td>\n",
       "      <td>b</td>\n",
       "      <td>Forward charges</td>\n",
       "      <td>0.50</td>\n",
       "      <td>61.30</td>\n",
       "      <td>117.90</td>\n",
       "      <td>56.60</td>\n",
       "    </tr>\n",
       "    <tr>\n",
       "      <th>...</th>\n",
       "      <td>...</td>\n",
       "      <td>...</td>\n",
       "      <td>...</td>\n",
       "      <td>...</td>\n",
       "      <td>...</td>\n",
       "      <td>...</td>\n",
       "      <td>...</td>\n",
       "      <td>...</td>\n",
       "      <td>...</td>\n",
       "      <td>...</td>\n",
       "      <td>...</td>\n",
       "    </tr>\n",
       "    <tr>\n",
       "      <th>396</th>\n",
       "      <td>2001806251</td>\n",
       "      <td>1091117222146</td>\n",
       "      <td>1.15</td>\n",
       "      <td>1.27</td>\n",
       "      <td>d</td>\n",
       "      <td>d</td>\n",
       "      <td>Forward charges</td>\n",
       "      <td>1.25</td>\n",
       "      <td>90.20</td>\n",
       "      <td>135.00</td>\n",
       "      <td>44.80</td>\n",
       "    </tr>\n",
       "    <tr>\n",
       "      <th>397</th>\n",
       "      <td>2001806251</td>\n",
       "      <td>1091117222146</td>\n",
       "      <td>1.30</td>\n",
       "      <td>1.27</td>\n",
       "      <td>d</td>\n",
       "      <td>d</td>\n",
       "      <td>Forward charges</td>\n",
       "      <td>1.25</td>\n",
       "      <td>90.20</td>\n",
       "      <td>135.00</td>\n",
       "      <td>44.80</td>\n",
       "    </tr>\n",
       "    <tr>\n",
       "      <th>398</th>\n",
       "      <td>2001806233</td>\n",
       "      <td>1091117222135</td>\n",
       "      <td>1.15</td>\n",
       "      <td>0.78</td>\n",
       "      <td>b</td>\n",
       "      <td>b</td>\n",
       "      <td>Forward charges</td>\n",
       "      <td>0.50</td>\n",
       "      <td>61.30</td>\n",
       "      <td>61.30</td>\n",
       "      <td>0.00</td>\n",
       "    </tr>\n",
       "    <tr>\n",
       "      <th>399</th>\n",
       "      <td>2001806233</td>\n",
       "      <td>1091117222135</td>\n",
       "      <td>1.30</td>\n",
       "      <td>0.78</td>\n",
       "      <td>b</td>\n",
       "      <td>b</td>\n",
       "      <td>Forward charges</td>\n",
       "      <td>0.50</td>\n",
       "      <td>61.30</td>\n",
       "      <td>61.30</td>\n",
       "      <td>0.00</td>\n",
       "    </tr>\n",
       "    <tr>\n",
       "      <th>400</th>\n",
       "      <td>2001807328</td>\n",
       "      <td>1091117324346</td>\n",
       "      <td>4.90</td>\n",
       "      <td>2.28</td>\n",
       "      <td>d</td>\n",
       "      <td>d</td>\n",
       "      <td>Forward charges</td>\n",
       "      <td>1.25</td>\n",
       "      <td>90.20</td>\n",
       "      <td>224.60</td>\n",
       "      <td>134.40</td>\n",
       "    </tr>\n",
       "  </tbody>\n",
       "</table>\n",
       "<p>333 rows × 11 columns</p>\n",
       "</div>"
      ],
      "text/plain": [
       "       Order ID     AWB Number  Total weight as per X (KG)  \\\n",
       "0    2001827036  1091122418320                        1.27   \n",
       "1    2001827036  1091122418320                        1.50   \n",
       "2    2001827036  1091122418320                        1.00   \n",
       "3    2001827036  1091122418320                        1.65   \n",
       "4    2001827036  1091122418320                        3.50   \n",
       "..          ...            ...                         ...   \n",
       "396  2001806251  1091117222146                        1.15   \n",
       "397  2001806251  1091117222146                        1.30   \n",
       "398  2001806233  1091117222135                        1.15   \n",
       "399  2001806233  1091117222135                        1.30   \n",
       "400  2001807328  1091117324346                        4.90   \n",
       "\n",
       "     Weight slab charged by Courier Company (KG) Delivery Zone as per X  \\\n",
       "0                                           1.60                      b   \n",
       "1                                           1.60                      b   \n",
       "2                                           1.60                      b   \n",
       "3                                           1.60                      b   \n",
       "4                                           1.60                      b   \n",
       "..                                           ...                    ...   \n",
       "396                                         1.27                      d   \n",
       "397                                         1.27                      d   \n",
       "398                                         0.78                      b   \n",
       "399                                         0.78                      b   \n",
       "400                                         2.28                      d   \n",
       "\n",
       "    Delivery Zone charged by Courier Company Type of Shipment  \\\n",
       "0                                          b  Forward charges   \n",
       "1                                          b  Forward charges   \n",
       "2                                          b  Forward charges   \n",
       "3                                          b  Forward charges   \n",
       "4                                          b  Forward charges   \n",
       "..                                       ...              ...   \n",
       "396                                        d  Forward charges   \n",
       "397                                        d  Forward charges   \n",
       "398                                        b  Forward charges   \n",
       "399                                        b  Forward charges   \n",
       "400                                        d  Forward charges   \n",
       "\n",
       "     Weight slab as per X (KG)  Expected Charge as per X (Rs.)  \\\n",
       "0                         0.50                           61.30   \n",
       "1                         0.50                           61.30   \n",
       "2                         0.50                           61.30   \n",
       "3                         0.50                           61.30   \n",
       "4                         0.50                           61.30   \n",
       "..                         ...                             ...   \n",
       "396                       1.25                           90.20   \n",
       "397                       1.25                           90.20   \n",
       "398                       0.50                           61.30   \n",
       "399                       0.50                           61.30   \n",
       "400                       1.25                           90.20   \n",
       "\n",
       "     Charges Billed by Courier Company (Rs.)  \\\n",
       "0                                     117.90   \n",
       "1                                     117.90   \n",
       "2                                     117.90   \n",
       "3                                     117.90   \n",
       "4                                     117.90   \n",
       "..                                       ...   \n",
       "396                                   135.00   \n",
       "397                                   135.00   \n",
       "398                                    61.30   \n",
       "399                                    61.30   \n",
       "400                                   224.60   \n",
       "\n",
       "     Difference Between Expected Charges and Billed Charges (Rs.)  \n",
       "0                                                56.60             \n",
       "1                                                56.60             \n",
       "2                                                56.60             \n",
       "3                                                56.60             \n",
       "4                                                56.60             \n",
       "..                                                 ...             \n",
       "396                                              44.80             \n",
       "397                                              44.80             \n",
       "398                                               0.00             \n",
       "399                                               0.00             \n",
       "400                                             134.40             \n",
       "\n",
       "[333 rows x 11 columns]"
      ]
     },
     "execution_count": 777,
     "metadata": {},
     "output_type": "execute_result"
    }
   ],
   "source": [
    "output"
   ]
  },
  {
   "cell_type": "code",
   "execution_count": 778,
   "id": "ed9aae2a",
   "metadata": {},
   "outputs": [],
   "source": [
    "output.to_csv('Final_output.csv')"
   ]
  },
  {
   "cell_type": "markdown",
   "id": "37012d2f",
   "metadata": {},
   "source": [
    "**Final Result**"
   ]
  },
  {
   "cell_type": "code",
   "execution_count": 708,
   "id": "fd2e59ac",
   "metadata": {},
   "outputs": [
    {
     "data": {
      "text/html": [
       "<div>\n",
       "<style scoped>\n",
       "    .dataframe tbody tr th:only-of-type {\n",
       "        vertical-align: middle;\n",
       "    }\n",
       "\n",
       "    .dataframe tbody tr th {\n",
       "        vertical-align: top;\n",
       "    }\n",
       "\n",
       "    .dataframe thead th {\n",
       "        text-align: right;\n",
       "    }\n",
       "</style>\n",
       "<table border=\"1\" class=\"dataframe\">\n",
       "  <thead>\n",
       "    <tr style=\"text-align: right;\">\n",
       "      <th></th>\n",
       "      <th>Unnamed: 0</th>\n",
       "      <th>Count</th>\n",
       "      <th>Amount</th>\n",
       "    </tr>\n",
       "  </thead>\n",
       "  <tbody>\n",
       "    <tr>\n",
       "      <th>0</th>\n",
       "      <td>Total Orders - Correctly Charged</td>\n",
       "      <td>1.0</td>\n",
       "      <td>135.0</td>\n",
       "    </tr>\n",
       "    <tr>\n",
       "      <th>1</th>\n",
       "      <td>Total Orders - Over Charged</td>\n",
       "      <td>1.0</td>\n",
       "      <td>-141.5</td>\n",
       "    </tr>\n",
       "    <tr>\n",
       "      <th>2</th>\n",
       "      <td>Total Orders - Under Charged</td>\n",
       "      <td>NaN</td>\n",
       "      <td>NaN</td>\n",
       "    </tr>\n",
       "  </tbody>\n",
       "</table>\n",
       "</div>"
      ],
      "text/plain": [
       "                         Unnamed: 0  Count  Amount\n",
       "0  Total Orders - Correctly Charged    1.0   135.0\n",
       "1       Total Orders - Over Charged    1.0  -141.5\n",
       "2      Total Orders - Under Charged    NaN     NaN"
      ]
     },
     "execution_count": 708,
     "metadata": {},
     "output_type": "execute_result"
    }
   ],
   "source": [
    "data6 = pd.read_excel('/Users/mitssverma/Documents/Naukari.com/Assignment details/Expected_Result.xlsx')\n",
    "data6"
   ]
  },
  {
   "cell_type": "markdown",
   "id": "a9df451d",
   "metadata": {},
   "source": [
    "**- Counts for Correctly Charged**"
   ]
  },
  {
   "cell_type": "code",
   "execution_count": 657,
   "id": "bc77052b",
   "metadata": {},
   "outputs": [
    {
     "data": {
      "text/plain": [
       "21"
      ]
     },
     "execution_count": 657,
     "metadata": {},
     "output_type": "execute_result"
    }
   ],
   "source": [
    "x_equal = 0\n",
    "for i in output['Difference Between Expected Charges and Billed Charges (Rs.)']:\n",
    "    if i == 0:\n",
    "        x_equal += 1\n",
    "x_equal"
   ]
  },
  {
   "cell_type": "markdown",
   "id": "1a77a1ae",
   "metadata": {},
   "source": [
    "**- Counts and Amount of Over Charger.**"
   ]
  },
  {
   "cell_type": "code",
   "execution_count": 658,
   "id": "96bd55f9",
   "metadata": {},
   "outputs": [
    {
     "data": {
      "text/plain": [
       "265"
      ]
     },
     "execution_count": 658,
     "metadata": {},
     "output_type": "execute_result"
    }
   ],
   "source": [
    "x_over = 0\n",
    "for i in output['Difference Between Expected Charges and Billed Charges (Rs.)']:\n",
    "    if i > 0:\n",
    "        x_over += 1\n",
    "x_over"
   ]
  },
  {
   "cell_type": "code",
   "execution_count": 753,
   "id": "a4464638",
   "metadata": {},
   "outputs": [],
   "source": [
    "x = []\n",
    "for i in output['Difference Between Expected Charges and Billed Charges (Rs.)']:\n",
    "    if i > 0:\n",
    "        x.append(i)\n",
    "over = sum(x)"
   ]
  },
  {
   "cell_type": "markdown",
   "id": "2ee1782e",
   "metadata": {},
   "source": [
    "**- Counts and Amount of Under Charger.**"
   ]
  },
  {
   "cell_type": "code",
   "execution_count": 659,
   "id": "4d2ad567",
   "metadata": {},
   "outputs": [
    {
     "data": {
      "text/plain": [
       "47"
      ]
     },
     "execution_count": 659,
     "metadata": {},
     "output_type": "execute_result"
    }
   ],
   "source": [
    "x_under = 0\n",
    "for i in output['Difference Between Expected Charges and Billed Charges (Rs.)']:\n",
    "    if i < 0:\n",
    "        x_under += 1\n",
    "x_under"
   ]
  },
  {
   "cell_type": "code",
   "execution_count": 773,
   "id": "c8ff1d61",
   "metadata": {},
   "outputs": [],
   "source": [
    "y = []\n",
    "for i in output['Difference Between Expected Charges and Billed Charges (Rs.)']:\n",
    "    if i < 0:\n",
    "        y.append(i)\n",
    "under = sum(y)"
   ]
  },
  {
   "cell_type": "code",
   "execution_count": 770,
   "id": "b224d4d0",
   "metadata": {},
   "outputs": [],
   "source": [
    "data6['Count'][0] = x_equal\n",
    "data6['Count'][1] = x_over\n",
    "data6['Count'][2] = x_under"
   ]
  },
  {
   "cell_type": "code",
   "execution_count": 779,
   "id": "12cd89d6",
   "metadata": {},
   "outputs": [],
   "source": [
    "data6['Amount'][0] = np.nan\n",
    "data6['Amount'][1] = over\n",
    "data6['Amount'][2] = under"
   ]
  },
  {
   "cell_type": "markdown",
   "id": "65bcbd08",
   "metadata": {},
   "source": [
    "**-Final Results**"
   ]
  },
  {
   "cell_type": "code",
   "execution_count": 780,
   "id": "a35c4aa6",
   "metadata": {},
   "outputs": [
    {
     "data": {
      "text/html": [
       "<div>\n",
       "<style scoped>\n",
       "    .dataframe tbody tr th:only-of-type {\n",
       "        vertical-align: middle;\n",
       "    }\n",
       "\n",
       "    .dataframe tbody tr th {\n",
       "        vertical-align: top;\n",
       "    }\n",
       "\n",
       "    .dataframe thead th {\n",
       "        text-align: right;\n",
       "    }\n",
       "</style>\n",
       "<table border=\"1\" class=\"dataframe\">\n",
       "  <thead>\n",
       "    <tr style=\"text-align: right;\">\n",
       "      <th></th>\n",
       "      <th>Unnamed: 0</th>\n",
       "      <th>Count</th>\n",
       "      <th>Amount</th>\n",
       "    </tr>\n",
       "  </thead>\n",
       "  <tbody>\n",
       "    <tr>\n",
       "      <th>0</th>\n",
       "      <td>Total Orders - Correctly Charged</td>\n",
       "      <td>21.00</td>\n",
       "      <td>NaN</td>\n",
       "    </tr>\n",
       "    <tr>\n",
       "      <th>1</th>\n",
       "      <td>Total Orders - Over Charged</td>\n",
       "      <td>265.00</td>\n",
       "      <td>12000.90</td>\n",
       "    </tr>\n",
       "    <tr>\n",
       "      <th>2</th>\n",
       "      <td>Total Orders - Under Charged</td>\n",
       "      <td>47.00</td>\n",
       "      <td>-1612.80</td>\n",
       "    </tr>\n",
       "  </tbody>\n",
       "</table>\n",
       "</div>"
      ],
      "text/plain": [
       "                         Unnamed: 0  Count   Amount\n",
       "0  Total Orders - Correctly Charged  21.00      NaN\n",
       "1       Total Orders - Over Charged 265.00 12000.90\n",
       "2      Total Orders - Under Charged  47.00 -1612.80"
      ]
     },
     "execution_count": 780,
     "metadata": {},
     "output_type": "execute_result"
    }
   ],
   "source": [
    "data6"
   ]
  },
  {
   "cell_type": "code",
   "execution_count": 781,
   "id": "57219f39",
   "metadata": {},
   "outputs": [],
   "source": [
    "data6.to_csv('Final_result.csv')"
   ]
  }
 ],
 "metadata": {
  "kernelspec": {
   "display_name": "Python 3 (ipykernel)",
   "language": "python",
   "name": "python3"
  },
  "language_info": {
   "codemirror_mode": {
    "name": "ipython",
    "version": 3
   },
   "file_extension": ".py",
   "mimetype": "text/x-python",
   "name": "python",
   "nbconvert_exporter": "python",
   "pygments_lexer": "ipython3",
   "version": "3.9.7"
  }
 },
 "nbformat": 4,
 "nbformat_minor": 5
}
